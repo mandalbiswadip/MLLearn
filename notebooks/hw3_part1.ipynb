{
 "cells": [
  {
   "cell_type": "code",
   "execution_count": 1,
   "id": "cbad0b4a",
   "metadata": {},
   "outputs": [],
   "source": [
    "import os\n",
    "import sys\n",
    "\n",
    "import pandas as pd\n",
    "import numpy as np\n",
    "\n",
    "sys.path.append(\"../module_3/\")\n",
    "\n",
    "from util import get_test_validation_file, get_feature_target\n",
    "\n",
    "path = '/Users/biswadipmandal/Documents/MSCS/Fall_21/CS_6375_ML/homeworks/hw3/hw3_part1_data/train_c1800_d5000.csv'\n",
    "\n",
    "data = pd.read_csv(path)\n",
    "\n",
    "fet = data.filter(data.columns[:-1])\n",
    "\n",
    "target = data[data.columns[-1]].values\n",
    "\n",
    "val_path, test_path = get_test_validation_file(path)\n",
    "\n",
    "features, target = get_feature_target(path)\n",
    "\n",
    "val_features, val_target = get_feature_target(val_path)\n",
    "\n",
    "X, y = np.concatenate((features, val_features)), np.concatenate((target, val_target))\n",
    "\n",
    "# val_features.shape\n",
    "\n",
    "from sklearn.tree import DecisionTreeClassifier\n",
    "from sklearn.model_selection import GridSearchCV, PredefinedSplit\n",
    "\n",
    "model = DecisionTreeClassifier()\n",
    "\n",
    "np.log2(features.shape[0])\n",
    "\n",
    "parameters = {'criterion':('gini', 'entropy'), \n",
    "              'max_depth':[3, 5, 10, None], \n",
    "             }\n",
    "\n",
    "test_indices = [-1 for _ in range(len(features))]\n",
    "\n",
    "for _ in range(len(val_features)):\n",
    "    test_indices.append(1)\n",
    "\n",
    "cv = PredefinedSplit(test_fold=test_indices)\n",
    "\n",
    "clf = GridSearchCV(model, cv=cv, param_grid=parameters, verbose=3)\n",
    "\n",
    "clf.fit(X, y)"
   ]
  },
  {
   "cell_type": "code",
   "execution_count": 36,
   "id": "81112f7a",
   "metadata": {},
   "outputs": [],
   "source": [
    "import pandas as pd\n",
    "import numpy as np"
   ]
  },
  {
   "cell_type": "code",
   "execution_count": 3,
   "id": "acf83b90",
   "metadata": {},
   "outputs": [],
   "source": [
    "sys.path.append(\"../module_3/\")"
   ]
  },
  {
   "cell_type": "code",
   "execution_count": 4,
   "id": "89b40fca",
   "metadata": {},
   "outputs": [],
   "source": [
    "from util import get_test_validation_file, get_feature_target"
   ]
  },
  {
   "cell_type": "code",
   "execution_count": 43,
   "id": "c808e49d",
   "metadata": {},
   "outputs": [],
   "source": [
    "path = '/Users/biswadipmandal/Documents/MSCS/Fall_21/CS_6375_ML/homeworks/hw3/hw3_part1_data/train_c1800_d5000.csv'"
   ]
  },
  {
   "cell_type": "code",
   "execution_count": 44,
   "id": "64b98703",
   "metadata": {},
   "outputs": [],
   "source": [
    "data = pd.read_csv(path)"
   ]
  },
  {
   "cell_type": "code",
   "execution_count": 7,
   "id": "11931d5e",
   "metadata": {},
   "outputs": [],
   "source": [
    "fet = data.filter(data.columns[:-1])"
   ]
  },
  {
   "cell_type": "code",
   "execution_count": 8,
   "id": "397691d4",
   "metadata": {},
   "outputs": [],
   "source": [
    "target = data[data.columns[-1]].values"
   ]
  },
  {
   "cell_type": "code",
   "execution_count": 25,
   "id": "9fbcafd7",
   "metadata": {},
   "outputs": [],
   "source": [
    "val_path, test_path = get_test_validation_file(path)"
   ]
  },
  {
   "cell_type": "code",
   "execution_count": 10,
   "id": "67444b87",
   "metadata": {},
   "outputs": [],
   "source": [
    "features, target = get_feature_target(path)"
   ]
  },
  {
   "cell_type": "code",
   "execution_count": 26,
   "id": "1e3f8e0a",
   "metadata": {},
   "outputs": [],
   "source": [
    "val_features, val_target = get_feature_target(val_path)"
   ]
  },
  {
   "cell_type": "code",
   "execution_count": 53,
   "id": "06d6b56b",
   "metadata": {},
   "outputs": [],
   "source": [
    "X, y = np.concatenate((features, val_features)), np.concatenate((target, val_target))"
   ]
  },
  {
   "cell_type": "code",
   "execution_count": 49,
   "id": "2742a6db",
   "metadata": {},
   "outputs": [],
   "source": [
    "# val_features.shape"
   ]
  },
  {
   "cell_type": "code",
   "execution_count": 27,
   "id": "90f27f68",
   "metadata": {},
   "outputs": [],
   "source": [
    "from sklearn.tree import DecisionTreeClassifier\n",
    "from sklearn.model_selection import GridSearchCV, PredefinedSplit"
   ]
  },
  {
   "cell_type": "code",
   "execution_count": 60,
   "id": "2fc18207",
   "metadata": {},
   "outputs": [],
   "source": [
    "model = DecisionTreeClassifier()"
   ]
  },
  {
   "cell_type": "code",
   "execution_count": 81,
   "id": "0e374b02",
   "metadata": {},
   "outputs": [
    {
     "data": {
      "text/plain": [
       "13.287568102831404"
      ]
     },
     "execution_count": 81,
     "metadata": {},
     "output_type": "execute_result"
    }
   ],
   "source": [
    "np.log2(features.shape[0])"
   ]
  },
  {
   "cell_type": "code",
   "execution_count": 61,
   "id": "61b734c9",
   "metadata": {},
   "outputs": [],
   "source": [
    "parameters = {'criterion':('gini', 'entropy'), \n",
    "              'max_depth':[3, 5, 10, None], \n",
    "             }"
   ]
  },
  {
   "cell_type": "code",
   "execution_count": 62,
   "id": "cd163648",
   "metadata": {},
   "outputs": [],
   "source": [
    "test_indices = [-1 for _ in range(len(features))]"
   ]
  },
  {
   "cell_type": "code",
   "execution_count": 63,
   "id": "8d6995a6",
   "metadata": {},
   "outputs": [],
   "source": [
    "for _ in range(len(val_features)):\n",
    "    test_indices.append(1)"
   ]
  },
  {
   "cell_type": "code",
   "execution_count": 64,
   "id": "2090de02",
   "metadata": {},
   "outputs": [],
   "source": [
    "cv = PredefinedSplit(test_fold=test_indices)"
   ]
  },
  {
   "cell_type": "code",
   "execution_count": 65,
   "id": "67936200",
   "metadata": {},
   "outputs": [],
   "source": [
    "clf = GridSearchCV(model, cv=cv, param_grid=parameters, verbose=3)"
   ]
  },
  {
   "cell_type": "code",
   "execution_count": 66,
   "id": "db709f49",
   "metadata": {},
   "outputs": [
    {
     "name": "stdout",
     "output_type": "stream",
     "text": [
      "Fitting 1 folds for each of 8 candidates, totalling 8 fits\n",
      "[CV 1/1] END .......criterion=gini, max_depth=3;, score=0.927 total time=   0.2s\n",
      "[CV 1/1] END .......criterion=gini, max_depth=5;, score=0.970 total time=   0.2s\n",
      "[CV 1/1] END ......criterion=gini, max_depth=10;, score=0.981 total time=   0.3s\n",
      "[CV 1/1] END ....criterion=gini, max_depth=None;, score=0.978 total time=   0.3s\n",
      "[CV 1/1] END ....criterion=entropy, max_depth=3;, score=0.927 total time=   0.1s\n",
      "[CV 1/1] END ....criterion=entropy, max_depth=5;, score=0.965 total time=   0.2s\n",
      "[CV 1/1] END ...criterion=entropy, max_depth=10;, score=0.984 total time=   0.3s\n",
      "[CV 1/1] END .criterion=entropy, max_depth=None;, score=0.985 total time=   0.3s\n"
     ]
    },
    {
     "data": {
      "text/plain": [
       "GridSearchCV(cv=PredefinedSplit(test_fold=array([-1, -1, ...,  1,  1])),\n",
       "             estimator=DecisionTreeClassifier(),\n",
       "             param_grid={'criterion': ('gini', 'entropy'),\n",
       "                         'max_depth': [3, 5, 10, None]},\n",
       "             verbose=3)"
      ]
     },
     "execution_count": 66,
     "metadata": {},
     "output_type": "execute_result"
    }
   ],
   "source": [
    "clf.fit(X, y)"
   ]
  },
  {
   "cell_type": "code",
   "execution_count": 79,
   "id": "23c54bd3",
   "metadata": {},
   "outputs": [
    {
     "data": {
      "text/plain": [
       "GridSearchCV(cv=PredefinedSplit(test_fold=array([-1, -1, ...,  1,  1])),\n",
       "             estimator=DecisionTreeClassifier(),\n",
       "             param_grid={'criterion': ('gini', 'entropy'),\n",
       "                         'max_depth': [3, 5, 10, None]},\n",
       "             verbose=3)"
      ]
     },
     "execution_count": 79,
     "metadata": {},
     "output_type": "execute_result"
    }
   ],
   "source": [
    "clf"
   ]
  },
  {
   "cell_type": "code",
   "execution_count": 69,
   "id": "ff310810",
   "metadata": {},
   "outputs": [],
   "source": [
    "best_model = clf.best_estimator_"
   ]
  },
  {
   "cell_type": "code",
   "execution_count": 73,
   "id": "8f233353",
   "metadata": {},
   "outputs": [],
   "source": [
    "best_params = best_model.get_params()"
   ]
  },
  {
   "cell_type": "code",
   "execution_count": 75,
   "id": "b205bf45",
   "metadata": {},
   "outputs": [],
   "source": [
    "mm = DecisionTreeClassifier(**best_params)"
   ]
  },
  {
   "cell_type": "code",
   "execution_count": 76,
   "id": "59f9f604",
   "metadata": {},
   "outputs": [
    {
     "data": {
      "text/plain": [
       "DecisionTreeClassifier(criterion='entropy')"
      ]
     },
     "execution_count": 76,
     "metadata": {},
     "output_type": "execute_result"
    }
   ],
   "source": [
    "mm.fit(features, target)"
   ]
  },
  {
   "cell_type": "code",
   "execution_count": 77,
   "id": "d1938916",
   "metadata": {},
   "outputs": [
    {
     "data": {
      "text/plain": [
       "0.9847984798479849"
      ]
     },
     "execution_count": 77,
     "metadata": {},
     "output_type": "execute_result"
    }
   ],
   "source": [
    "mm.score(val_features, val_target)"
   ]
  },
  {
   "cell_type": "code",
   "execution_count": 82,
   "id": "5ee56307",
   "metadata": {},
   "outputs": [
    {
     "data": {
      "text/plain": [
       "{'ccp_alpha': 0.0,\n",
       " 'class_weight': None,\n",
       " 'criterion': 'entropy',\n",
       " 'max_depth': None,\n",
       " 'max_features': None,\n",
       " 'max_leaf_nodes': None,\n",
       " 'min_impurity_decrease': 0.0,\n",
       " 'min_impurity_split': None,\n",
       " 'min_samples_leaf': 1,\n",
       " 'min_samples_split': 2,\n",
       " 'min_weight_fraction_leaf': 0.0,\n",
       " 'random_state': None,\n",
       " 'splitter': 'best'}"
      ]
     },
     "execution_count": 82,
     "metadata": {},
     "output_type": "execute_result"
    }
   ],
   "source": [
    "best_params"
   ]
  },
  {
   "cell_type": "code",
   "execution_count": null,
   "id": "5dde339d",
   "metadata": {},
   "outputs": [],
   "source": []
  }
 ],
 "metadata": {
  "kernelspec": {
   "display_name": "Python 3",
   "language": "python",
   "name": "python3"
  },
  "language_info": {
   "codemirror_mode": {
    "name": "ipython",
    "version": 3
   },
   "file_extension": ".py",
   "mimetype": "text/x-python",
   "name": "python",
   "nbconvert_exporter": "python",
   "pygments_lexer": "ipython3",
   "version": "3.8.10"
  }
 },
 "nbformat": 4,
 "nbformat_minor": 5
}
