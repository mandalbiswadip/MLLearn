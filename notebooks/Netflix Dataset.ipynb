{
 "cells": [
  {
   "cell_type": "code",
   "execution_count": 1,
   "id": "ad541c3c",
   "metadata": {},
   "outputs": [],
   "source": [
    "%load_ext autoreload\n",
    "%autoreload 2"
   ]
  },
  {
   "cell_type": "code",
   "execution_count": 2,
   "id": "6223c5f9",
   "metadata": {},
   "outputs": [],
   "source": [
    "import os\n",
    "import pandas as pd\n",
    "import numpy as np\n",
    "import matplotlib.pyplot as plt\n",
    "from sklearn.metrics import pairwise\n",
    "from scipy import stats\n"
   ]
  },
  {
   "cell_type": "code",
   "execution_count": 3,
   "id": "47073479",
   "metadata": {},
   "outputs": [],
   "source": [
    "import sys\n",
    "sys.path.append(\"../module_2//\")"
   ]
  },
  {
   "cell_type": "code",
   "execution_count": 4,
   "id": "0b737f36",
   "metadata": {},
   "outputs": [],
   "source": [
    "from dataset import MovieDataset\n",
    "from model import CollaborativeFilteringModel, deepcopy"
   ]
  },
  {
   "cell_type": "code",
   "execution_count": 5,
   "id": "e5725990",
   "metadata": {},
   "outputs": [],
   "source": [
    "path = \"../../hw2/netflix/\""
   ]
  },
  {
   "cell_type": "code",
   "execution_count": 6,
   "id": "d401e734",
   "metadata": {},
   "outputs": [],
   "source": [
    "train_text_path = os.path.join(path, \"TrainingRatings.txt\")\n",
    "test_text_path = os.path.join(path, \"TestingRatings.txt\")"
   ]
  },
  {
   "cell_type": "code",
   "execution_count": 7,
   "id": "00e44ff8",
   "metadata": {},
   "outputs": [],
   "source": [
    "movie = MovieDataset()"
   ]
  },
  {
   "cell_type": "code",
   "execution_count": 8,
   "id": "5a1e6aa0",
   "metadata": {},
   "outputs": [
    {
     "name": "stderr",
     "output_type": "stream",
     "text": [
      "INFO:Unique user count: 28978\n",
      "INFO:Unique movie user: 1821\n"
     ]
    }
   ],
   "source": [
    "train_matrix = movie.fit_transform(train_text_path)"
   ]
  },
  {
   "cell_type": "code",
   "execution_count": 9,
   "id": "c263ed88",
   "metadata": {},
   "outputs": [
    {
     "data": {
      "text/plain": [
       "(28978, 1821)"
      ]
     },
     "execution_count": 9,
     "metadata": {},
     "output_type": "execute_result"
    }
   ],
   "source": [
    "train_matrix.shape"
   ]
  },
  {
   "cell_type": "code",
   "execution_count": 10,
   "id": "bdf99494",
   "metadata": {},
   "outputs": [],
   "source": [
    "model = CollaborativeFilteringModel()"
   ]
  },
  {
   "cell_type": "code",
   "execution_count": 11,
   "id": "3a61d875",
   "metadata": {},
   "outputs": [
    {
     "name": "stderr",
     "output_type": "stream",
     "text": [
      "/Users/biswadipmandal/Documents/MSCS/Fall_21/CS_6375_ML/homeworks/MLLearn/notebooks/../module_2/model.py:65: RuntimeWarning: invalid value encountered in true_divide\n",
      "  temp_rating_matrix = temp_rating_matrix / b\n"
     ]
    }
   ],
   "source": [
    "model.fit_model(train_matrix)"
   ]
  },
  {
   "cell_type": "code",
   "execution_count": 42,
   "id": "5fbbbc5b",
   "metadata": {},
   "outputs": [],
   "source": [
    "test_pairs = movie.get_user_movie_index(test_text_path).values"
   ]
  },
  {
   "cell_type": "code",
   "execution_count": 13,
   "id": "07e1723a",
   "metadata": {},
   "outputs": [],
   "source": [
    "train_pairs = movie.get_user_movie_index(train_text_path).values"
   ]
  },
  {
   "cell_type": "code",
   "execution_count": 43,
   "id": "b3a889dc",
   "metadata": {},
   "outputs": [],
   "source": [
    "test_pairs = test_pairs"
   ]
  },
  {
   "cell_type": "code",
   "execution_count": 44,
   "id": "e1d90fb4",
   "metadata": {
    "scrolled": true
   },
   "outputs": [
    {
     "name": "stderr",
     "output_type": "stream",
     "text": [
      "0it [00:00, ?it/s]/Users/biswadipmandal/Documents/MSCS/Fall_21/CS_6375_ML/homeworks/MLLearn/notebooks/../module_2/model.py:92: RuntimeWarning: divide by zero encountered in double_scalars\n",
      "  kappa = 1 / self.kappa[user_index]\n",
      "/Users/biswadipmandal/Documents/MSCS/Fall_21/CS_6375_ML/homeworks/MLLearn/notebooks/../module_2/model.py:96: RuntimeWarning: invalid value encountered in multiply\n",
      "  avg + np.nan_to_num(kappa *\n",
      "100478it [02:40, 627.90it/s]\n"
     ]
    }
   ],
   "source": [
    "pred = model.predict(test_pairs)"
   ]
  },
  {
   "cell_type": "code",
   "execution_count": 47,
   "id": "6aac1018",
   "metadata": {},
   "outputs": [],
   "source": [
    "test_rating = np.array([float(x) for x in test_pairs[...,2]])"
   ]
  },
  {
   "cell_type": "code",
   "execution_count": 48,
   "id": "3c163ad2",
   "metadata": {},
   "outputs": [],
   "source": [
    "from sklearn.metrics import mean_squared_error, r2_score, mean_absolute_error"
   ]
  },
  {
   "cell_type": "code",
   "execution_count": 49,
   "id": "e3d99906",
   "metadata": {},
   "outputs": [
    {
     "data": {
      "text/plain": [
       "0.7460886839093287"
      ]
     },
     "execution_count": 49,
     "metadata": {},
     "output_type": "execute_result"
    }
   ],
   "source": [
    "mean_absolute_error(test_rating, pred)"
   ]
  },
  {
   "cell_type": "code",
   "execution_count": 50,
   "id": "7564fcef",
   "metadata": {},
   "outputs": [
    {
     "data": {
      "text/plain": [
       "0.7902268915281672"
      ]
     },
     "execution_count": 50,
     "metadata": {},
     "output_type": "execute_result"
    }
   ],
   "source": [
    "mean_absolute_error(test_rating, model.get_average_rating(test_pairs))"
   ]
  }
 ],
 "metadata": {
  "kernelspec": {
   "display_name": "Python 3",
   "language": "python",
   "name": "python3"
  },
  "language_info": {
   "codemirror_mode": {
    "name": "ipython",
    "version": 3
   },
   "file_extension": ".py",
   "mimetype": "text/x-python",
   "name": "python",
   "nbconvert_exporter": "python",
   "pygments_lexer": "ipython3",
   "version": "3.8.10"
  }
 },
 "nbformat": 4,
 "nbformat_minor": 5
}
