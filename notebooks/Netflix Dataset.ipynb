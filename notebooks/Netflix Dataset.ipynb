{
 "cells": [
  {
   "cell_type": "code",
   "execution_count": 1,
   "id": "ad541c3c",
   "metadata": {},
   "outputs": [],
   "source": [
    "%load_ext autoreload\n",
    "%autoreload 2"
   ]
  },
  {
   "cell_type": "code",
   "execution_count": 2,
   "id": "6223c5f9",
   "metadata": {},
   "outputs": [],
   "source": [
    "import os\n",
    "import pandas as pd\n",
    "import numpy as np\n",
    "import matplotlib.pyplot as plt\n",
    "from sklearn.metrics import pairwise\n",
    "from scipy import stats"
   ]
  },
  {
   "cell_type": "code",
   "execution_count": 3,
   "id": "47073479",
   "metadata": {},
   "outputs": [],
   "source": [
    "import sys\n",
    "sys.path.append(\"../module_2//\")"
   ]
  },
  {
   "cell_type": "code",
   "execution_count": 4,
   "id": "0b737f36",
   "metadata": {},
   "outputs": [],
   "source": [
    "from dataset import MovieDataset\n",
    "from model import CollaborativeFilteringModel, deepcopy"
   ]
  },
  {
   "cell_type": "code",
   "execution_count": 5,
   "id": "e5725990",
   "metadata": {},
   "outputs": [],
   "source": [
    "path = \"../../hw2/netflix/\""
   ]
  },
  {
   "cell_type": "code",
   "execution_count": 6,
   "id": "d401e734",
   "metadata": {},
   "outputs": [],
   "source": [
    "train_text_path = os.path.join(path, \"TrainingRatings.txt\")\n",
    "test_text_path = os.path.join(path, \"TestingRatings.txt\")"
   ]
  },
  {
   "cell_type": "code",
   "execution_count": 7,
   "id": "00e44ff8",
   "metadata": {},
   "outputs": [],
   "source": [
    "movie = MovieDataset()"
   ]
  },
  {
   "cell_type": "code",
   "execution_count": 8,
   "id": "5a1e6aa0",
   "metadata": {},
   "outputs": [
    {
     "name": "stderr",
     "output_type": "stream",
     "text": [
      "INFO:Unique user count: 28978\n",
      "INFO:Unique movie user: 1821\n"
     ]
    }
   ],
   "source": [
    "train_matrix = movie.fit_transform(train_text_path)"
   ]
  },
  {
   "cell_type": "code",
   "execution_count": 9,
   "id": "c263ed88",
   "metadata": {},
   "outputs": [
    {
     "data": {
      "text/plain": [
       "(28978, 1821)"
      ]
     },
     "execution_count": 9,
     "metadata": {},
     "output_type": "execute_result"
    }
   ],
   "source": [
    "train_matrix.shape"
   ]
  },
  {
   "cell_type": "code",
   "execution_count": 10,
   "id": "bdf99494",
   "metadata": {},
   "outputs": [],
   "source": [
    "model = CollaborativeFilteringModel()"
   ]
  },
  {
   "cell_type": "code",
   "execution_count": 33,
   "id": "3a61d875",
   "metadata": {},
   "outputs": [
    {
     "name": "stderr",
     "output_type": "stream",
     "text": [
      "/Users/biswadipmandal/Documents/MSCS/Fall_21/CS_6375_ML/homeworks/MLLearn/notebooks/../module_2/model.py:50: RuntimeWarning: invalid value encountered in true_divide\n",
      "  temp_rating_matrix = temp_rating_matrix / np.sqrt(\n"
     ]
    }
   ],
   "source": [
    "model.fit_model(train_matrix)"
   ]
  },
  {
   "cell_type": "code",
   "execution_count": 40,
   "id": "c18cf275",
   "metadata": {},
   "outputs": [],
   "source": [
    "normalized_ratings = deepcopy(temp_rating_matrix)"
   ]
  },
  {
   "cell_type": "code",
   "execution_count": 65,
   "id": "2baa6c2c",
   "metadata": {},
   "outputs": [
    {
     "name": "stderr",
     "output_type": "stream",
     "text": [
      "<ipython-input-65-63036b6b9fbb>:1: RuntimeWarning: invalid value encountered in true_divide\n",
      "  temp_rating_matrix = temp_rating_matrix / np.sqrt(\n"
     ]
    }
   ],
   "source": [
    "temp_rating_matrix = temp_rating_matrix / np.sqrt(\n",
    "        np.sum(np.square(temp_rating_matrix), axis=-1))[:, None]"
   ]
  },
  {
   "cell_type": "code",
   "execution_count": null,
   "id": "f8b3a4ed",
   "metadata": {},
   "outputs": [],
   "source": [
    "normalized_ratings @ temp_rating_matrix.transpose()"
   ]
  },
  {
   "cell_type": "code",
   "execution_count": null,
   "id": "06035fd6",
   "metadata": {},
   "outputs": [],
   "source": []
  },
  {
   "cell_type": "code",
   "execution_count": null,
   "id": "4ff2f033",
   "metadata": {},
   "outputs": [],
   "source": []
  },
  {
   "cell_type": "code",
   "execution_count": 60,
   "id": "1f1aa0a6",
   "metadata": {},
   "outputs": [],
   "source": [
    "kk = _"
   ]
  },
  {
   "cell_type": "code",
   "execution_count": null,
   "id": "3d0ceb31",
   "metadata": {},
   "outputs": [
    {
     "name": "stderr",
     "output_type": "stream",
     "text": [
      "/Users/biswadipmandal/Documents/MSCS/Fall_21/CS_6375_ML/homeworks/MLLearn/notebooks/../module_2/model.py:50: RuntimeWarning: invalid value encountered in true_divide\n",
      "  temp_rating_matrix = temp_rating_matrix / np.sqrt(\n"
     ]
    }
   ],
   "source": [
    "model.fit_model(train_matrix)"
   ]
  },
  {
   "cell_type": "code",
   "execution_count": 12,
   "id": "5fbbbc5b",
   "metadata": {},
   "outputs": [],
   "source": [
    "test_pairs = movie.get_user_movie_index(test_text_path).values"
   ]
  },
  {
   "cell_type": "code",
   "execution_count": 13,
   "id": "07e1723a",
   "metadata": {},
   "outputs": [],
   "source": [
    "train_pairs = movie.get_user_movie_index(train_text_path).values"
   ]
  },
  {
   "cell_type": "code",
   "execution_count": 14,
   "id": "653e30a6",
   "metadata": {},
   "outputs": [],
   "source": [
    "test_pairs = test_pairs[:10000]"
   ]
  },
  {
   "cell_type": "code",
   "execution_count": 28,
   "id": "e1d90fb4",
   "metadata": {},
   "outputs": [],
   "source": [
    "# pred = model.predict(test_pairs)"
   ]
  },
  {
   "cell_type": "code",
   "execution_count": 27,
   "id": "6aac1018",
   "metadata": {},
   "outputs": [],
   "source": [
    "test_rating = np.array([float(x) for x in test_pairs[...,2]])"
   ]
  },
  {
   "cell_type": "code",
   "execution_count": null,
   "id": "3c163ad2",
   "metadata": {},
   "outputs": [],
   "source": [
    "from sklearn.metrics import mean_squared_error, r2_score, mean_absolute_error"
   ]
  },
  {
   "cell_type": "code",
   "execution_count": null,
   "id": "e3d99906",
   "metadata": {},
   "outputs": [],
   "source": [
    "mean_absolute_error(test_rating, pred)"
   ]
  },
  {
   "cell_type": "code",
   "execution_count": 24,
   "id": "7564fcef",
   "metadata": {},
   "outputs": [
    {
     "data": {
      "text/plain": [
       "0.818265069753967"
      ]
     },
     "execution_count": 24,
     "metadata": {},
     "output_type": "execute_result"
    }
   ],
   "source": [
    "mean_absolute_error(test_rating, model.get_average_rating(test_pairs))"
   ]
  },
  {
   "cell_type": "code",
   "execution_count": 27,
   "id": "de90deb0",
   "metadata": {},
   "outputs": [
    {
     "data": {
      "text/plain": [
       "(array([9.5000e+01, 4.0150e+03, 1.6606e+04, 7.7430e+03, 5.0000e+02,\n",
       "        5.0000e+00, 0.0000e+00, 0.0000e+00, 0.0000e+00, 1.0000e+00]),\n",
       " array([-0.27096756, -0.14387081, -0.01677405,  0.11032271,  0.23741946,\n",
       "         0.36451622,  0.49161297,  0.61870973,  0.74580649,  0.87290324,\n",
       "         1.        ]),\n",
       " <BarContainer object of 10 artists>)"
      ]
     },
     "execution_count": 27,
     "metadata": {},
     "output_type": "execute_result"
    },
    {
     "data": {
      "image/png": "[encoded data removed]",
      "text/plain": [
       "<Figure size 432x288 with 1 Axes>"
      ]
     },
     "metadata": {
      "needs_background": "light"
     },
     "output_type": "display_data"
    }
   ],
   "source": [
    "plt.hist(model.similarity[0])"
   ]
  },
  {
   "cell_type": "code",
   "execution_count": null,
   "id": "a914c2fa",
   "metadata": {},
   "outputs": [],
   "source": []
  },
  {
   "cell_type": "code",
   "execution_count": null,
   "id": "7130fcfa",
   "metadata": {},
   "outputs": [],
   "source": []
  },
  {
   "cell_type": "code",
   "execution_count": 16,
   "id": "64f23923",
   "metadata": {},
   "outputs": [],
   "source": [
    "query = test_pairs"
   ]
  },
  {
   "cell_type": "code",
   "execution_count": 17,
   "id": "21da9e69",
   "metadata": {},
   "outputs": [
    {
     "data": {
      "text/plain": [
       "(10000, 3)"
      ]
     },
     "execution_count": 17,
     "metadata": {},
     "output_type": "execute_result"
    }
   ],
   "source": [
    "query.shape"
   ]
  },
  {
   "cell_type": "code",
   "execution_count": 18,
   "id": "8168bf39",
   "metadata": {},
   "outputs": [],
   "source": [
    "user_indexes = query[..., 1].astype(\"int\")"
   ]
  },
  {
   "cell_type": "code",
   "execution_count": 19,
   "id": "f683499b",
   "metadata": {},
   "outputs": [],
   "source": [
    "movie_indexes = query[..., 0].astype(\"int\")"
   ]
  },
  {
   "cell_type": "code",
   "execution_count": 20,
   "id": "4107ff93",
   "metadata": {},
   "outputs": [],
   "source": [
    "average_user_rating = model.average_ratings[user_indexes]"
   ]
  },
  {
   "cell_type": "code",
   "execution_count": 21,
   "id": "911916ef",
   "metadata": {},
   "outputs": [],
   "source": [
    "sim = np.nan_to_num(model.similarity[user_indexes])"
   ]
  },
  {
   "cell_type": "code",
   "execution_count": 43,
   "id": "2e026b87",
   "metadata": {},
   "outputs": [
    {
     "data": {
      "text/plain": [
       "(array([2.4800e+02, 8.2670e+03, 1.7608e+04, 2.8210e+03, 3.3000e+01,\n",
       "        0.0000e+00, 0.0000e+00, 0.0000e+00, 0.0000e+00, 1.0000e+00]),\n",
       " array([-0.20133621, -0.08120259,  0.03893103,  0.15906465,  0.27919827,\n",
       "         0.39933189,  0.51946552,  0.63959914,  0.75973276,  0.87986638,\n",
       "         1.        ]),\n",
       " <BarContainer object of 10 artists>)"
      ]
     },
     "execution_count": 43,
     "metadata": {},
     "output_type": "execute_result"
    },
    {
     "data": {
      "image/png": "[encoded data removed]",
      "text/plain": [
       "<Figure size 432x288 with 1 Axes>"
      ]
     },
     "metadata": {
      "needs_background": "light"
     },
     "output_type": "display_data"
    }
   ],
   "source": [
    "plt.hist(sim[0])"
   ]
  },
  {
   "cell_type": "code",
   "execution_count": 47,
   "id": "efa8801c",
   "metadata": {},
   "outputs": [
    {
     "data": {
      "text/plain": [
       "[0.9999999999999999,\n",
       " 0.37214237551989265,\n",
       " 0.36634358468887596,\n",
       " 0.3598870389604134,\n",
       " 0.35636081097665784,\n",
       " 0.34936196258722,\n",
       " 0.346897509927254,\n",
       " 0.3468745434186117,\n",
       " 0.3457374308233389,\n",
       " 0.34487898502694236,\n",
       " 0.3422875254713475,\n",
       " 0.34213060818258506,\n",
       " 0.34189823415783005,\n",
       " 0.3382203557766331,\n",
       " 0.3336207795292329,\n",
       " 0.33257862293148194,\n",
       " 0.3317448664566312,\n",
       " 0.3309658019302519,\n",
       " 0.3303458631210694,\n",
       " 0.3275949414532601,\n",
       " 0.32683856566539565,\n",
       " 0.3263524404083518,\n",
       " 0.3261065120890768,\n",
       " 0.32513831888549527,\n",
       " 0.32393080558688925,\n",
       " 0.3234100491441661,\n",
       " 0.323186748410781,\n",
       " 0.32313872062954063,\n",
       " 0.32219564140511864,\n",
       " 0.3221125489903217,\n",
       " 0.3216983029553663,\n",
       " 0.3215240544148285,\n",
       " 0.32051137225463294,\n",
       " 0.319629976621063,\n",
       " 0.31759494003002453,\n",
       " 0.3154896815507477,\n",
       " 0.3148199729848804,\n",
       " 0.3141380761613118,\n",
       " 0.31390410301908606,\n",
       " 0.3137324872362414,\n",
       " 0.3135555579177834,\n",
       " 0.3131928390268657,\n",
       " 0.31272942483748734,\n",
       " 0.31213616929114346,\n",
       " 0.3107424736774209,\n",
       " 0.31025031521993496,\n",
       " 0.30984780370623316,\n",
       " 0.309796529057812,\n",
       " 0.3091871413503916,\n",
       " 0.30901704499179783,\n",
       " 0.3082433036311779,\n",
       " 0.30750723287718157,\n",
       " 0.30730521386244314,\n",
       " 0.3072033657934348,\n",
       " 0.3069506508928482,\n",
       " 0.3068338022470203,\n",
       " 0.3064537300342001,\n",
       " 0.3062135254072442,\n",
       " 0.3061997577458292,\n",
       " 0.3061032432835701,\n",
       " 0.3058459553491028,\n",
       " 0.3056478609170219,\n",
       " 0.3054939700209927,\n",
       " 0.3049752261801972,\n",
       " 0.3048215905571847,\n",
       " 0.30471312895056685,\n",
       " 0.3040660971731564,\n",
       " 0.3040655481581075,\n",
       " 0.30394827128306334,\n",
       " 0.30388659796733275,\n",
       " 0.3033830034748174,\n",
       " 0.30334631003420576,\n",
       " 0.3029859461284067,\n",
       " 0.30237198017164907,\n",
       " 0.3022697365833394,\n",
       " 0.3017163983893296,\n",
       " 0.3015638191315519,\n",
       " 0.301529026597424,\n",
       " 0.3009712649597537,\n",
       " 0.3007718552493988,\n",
       " 0.3006000814644211,\n",
       " 0.2999123119436729,\n",
       " 0.2997352753728049,\n",
       " 0.29963724293849864,\n",
       " 0.29962014486631006,\n",
       " 0.2995505613919215,\n",
       " 0.29948790734604985,\n",
       " 0.2994723117889522,\n",
       " 0.29935723630429145,\n",
       " 0.2991305426987815,\n",
       " 0.29894438864453793,\n",
       " 0.2987849607856329,\n",
       " 0.2987789774790671,\n",
       " 0.29786887738238355,\n",
       " 0.2978167915945835,\n",
       " 0.29764797827011713,\n",
       " 0.2976219794253543,\n",
       " 0.2976184790143346,\n",
       " 0.2974652592505451,\n",
       " 0.29709181596182227,\n",
       " 0.2970657894006435,\n",
       " 0.2968492765119913,\n",
       " 0.29644706809951693,\n",
       " 0.29642506777378136,\n",
       " 0.2960913490417985,\n",
       " 0.2957913752413852,\n",
       " 0.2957536498059846,\n",
       " 0.29573822651708076,\n",
       " 0.2954465503252201,\n",
       " 0.29532299699253384,\n",
       " 0.2950092290313804,\n",
       " 0.29495852821129365,\n",
       " 0.29494416006044105,\n",
       " 0.29445984682172965,\n",
       " 0.2939122591954722,\n",
       " 0.2937530161159158,\n",
       " 0.29370642575402484,\n",
       " 0.2936645198788484,\n",
       " 0.29355977893231994,\n",
       " 0.2934539756303678,\n",
       " 0.2933243329686014,\n",
       " 0.2932129423868599,\n",
       " 0.2923968433806873,\n",
       " 0.29230043203707995,\n",
       " 0.292294614346747,\n",
       " 0.29223673775043973,\n",
       " 0.2920103409395901,\n",
       " 0.29181456125185784,\n",
       " 0.2915596851226115,\n",
       " 0.2913911118519105,\n",
       " 0.2913837432748372,\n",
       " 0.29114644133093376,\n",
       " 0.2911323431267553,\n",
       " 0.2911320500485683,\n",
       " 0.29089698498934907,\n",
       " 0.2904239517517476,\n",
       " 0.29020050920154994,\n",
       " 0.29003329816105583,\n",
       " 0.28988500939390704,\n",
       " 0.2894936693614514,\n",
       " 0.2892884957558624,\n",
       " 0.28909551694227853,\n",
       " 0.28908747865796625,\n",
       " 0.2890853891787897,\n",
       " 0.2887665861593189,\n",
       " 0.28871180082817777,\n",
       " 0.2886507380566775,\n",
       " 0.2883361617154887,\n",
       " 0.2882920098040048,\n",
       " 0.28827951739616364,\n",
       " 0.2882692529237091,\n",
       " 0.28812310488009274,\n",
       " 0.28750718612133197,\n",
       " 0.287507150996228,\n",
       " 0.28734706642770547,\n",
       " 0.2869353133797702,\n",
       " 0.28625565221044746,\n",
       " 0.2859185998307295,\n",
       " 0.2857712460256272,\n",
       " 0.28568747824445584,\n",
       " 0.28551894240724957,\n",
       " 0.2850980071157946,\n",
       " 0.28471647844304865,\n",
       " 0.28445490464439843,\n",
       " 0.2844494752284578,\n",
       " 0.2843763670029189,\n",
       " 0.2841696851670843,\n",
       " 0.2841337233214395,\n",
       " 0.283940338540315,\n",
       " 0.2838753782572539,\n",
       " 0.2838688891078427,\n",
       " 0.2838031453185335,\n",
       " 0.28374343254056034,\n",
       " 0.2837077668841579,\n",
       " 0.2835927786773738,\n",
       " 0.2833540978921704,\n",
       " 0.28314998248149664,\n",
       " 0.28296661369478476,\n",
       " 0.28295841002407995,\n",
       " 0.28279420171198943,\n",
       " 0.28249609618376725,\n",
       " 0.28238073929167296,\n",
       " 0.2821418135005371,\n",
       " 0.28211997199200434,\n",
       " 0.2820692219270336,\n",
       " 0.2820028295803754,\n",
       " 0.2818706429499592,\n",
       " 0.28182269967517787,\n",
       " 0.281816897830391,\n",
       " 0.2817319721828824,\n",
       " 0.2817038492925581,\n",
       " 0.2815631385288422,\n",
       " 0.2815517473381853,\n",
       " 0.2812301548517564,\n",
       " 0.28121301197018017,\n",
       " 0.28105778537083687,\n",
       " 0.2809418941306337,\n",
       " 0.28092677821187384,\n",
       " 0.28089936164981594,\n",
       " 0.2808958794897377,\n",
       " 0.2808507923017337,\n",
       " 0.2807864549421542,\n",
       " 0.2807694853913747,\n",
       " 0.28055103415154775,\n",
       " 0.2805385803425797,\n",
       " 0.2804454373084012,\n",
       " 0.28021669183477443,\n",
       " 0.28020755522272367,\n",
       " 0.2801930840774911,\n",
       " 0.28017029576521724,\n",
       " 0.2800695532568591,\n",
       " 0.27998618045541346,\n",
       " 0.2799161084859764,\n",
       " 0.2797457347866871,\n",
       " 0.2793861304633938,\n",
       " 0.2793628036091926,\n",
       " 0.27933005658021887,\n",
       " 0.2793127566026875,\n",
       " 0.2792848099397568,\n",
       " 0.27926081746638554,\n",
       " 0.279178644181115,\n",
       " 0.27906592173365247,\n",
       " 0.27902757606747347,\n",
       " 0.2789714094033583,\n",
       " 0.2789162366571013,\n",
       " 0.2789032503085687,\n",
       " 0.27881714727857426,\n",
       " 0.2788007790774113,\n",
       " 0.2786030319361938,\n",
       " 0.2785567556546305,\n",
       " 0.27851623719884905,\n",
       " 0.2784979654538606,\n",
       " 0.2784638023005075,\n",
       " 0.27844219532504244,\n",
       " 0.2782256767128029,\n",
       " 0.27820730049226183,\n",
       " 0.2781142798191895,\n",
       " 0.2780923438883213,\n",
       " 0.2780612070513263,\n",
       " 0.2777545932558005,\n",
       " 0.27758805058058067,\n",
       " 0.27753662922126304,\n",
       " 0.27746812712773783,\n",
       " 0.27731335698337817,\n",
       " 0.27726159395286715,\n",
       " 0.2768365527771929,\n",
       " 0.27679530495030286,\n",
       " 0.2764040390802878,\n",
       " 0.27631405841277823,\n",
       " 0.27631332957849963,\n",
       " 0.2758706243171401,\n",
       " 0.2758096372496679,\n",
       " 0.2757831984172048,\n",
       " 0.27574792045233526,\n",
       " 0.2756443657438108,\n",
       " 0.27563127306906854,\n",
       " 0.2755581038591461,\n",
       " 0.27516989933345487,\n",
       " 0.2750206556926793,\n",
       " 0.27497331129371877,\n",
       " 0.2748556933318059,\n",
       " 0.27475869676441417,\n",
       " 0.27462325893542555,\n",
       " 0.27449885433090415,\n",
       " 0.27437508971406416,\n",
       " 0.2740796815412064,\n",
       " 0.27391584297876853,\n",
       " 0.2738252714411631,\n",
       " 0.2737889344627641,\n",
       " 0.27365498693960005,\n",
       " 0.2734673561579655,\n",
       " 0.27344638794779186,\n",
       " 0.2734208037556964,\n",
       " 0.2732230180247972,\n",
       " 0.27322054280498786,\n",
       " 0.27314046288844684,\n",
       " 0.27306920208391416,\n",
       " 0.2730360835460612,\n",
       " 0.2730320371840416,\n",
       " 0.27286579800726996,\n",
       " 0.2727216525586095,\n",
       " 0.27209092363491527,\n",
       " 0.2720610240824647,\n",
       " 0.27205831590528395,\n",
       " 0.2719721301218136,\n",
       " 0.27194655997031836,\n",
       " 0.2718857469973385,\n",
       " 0.27184400285403026,\n",
       " 0.27167948045227225,\n",
       " 0.2713766114815373,\n",
       " 0.27126832959229386,\n",
       " 0.27120400205048384,\n",
       " 0.27112491715299863,\n",
       " 0.2710777295959939,\n",
       " 0.2709879997729162,\n",
       " 0.2709370438142656,\n",
       " 0.27090013358717474,\n",
       " 0.27086358895127205,\n",
       " 0.27070838718782186,\n",
       " 0.27060673897062026,\n",
       " 0.27059623499751684,\n",
       " 0.2705366264166925,\n",
       " 0.2703931254325517,\n",
       " 0.2703313035118183,\n",
       " 0.2702606320846003,\n",
       " 0.27010969529675977,\n",
       " 0.26996672795406723,\n",
       " 0.2698951856873441,\n",
       " 0.2698898701335864,\n",
       " 0.2696913187031713,\n",
       " 0.2696386590666436,\n",
       " 0.26945561284109293,\n",
       " 0.2694051970790608,\n",
       " 0.2691563712157913,\n",
       " 0.2691302610511356,\n",
       " 0.26904358967619213,\n",
       " 0.26894752997099064,\n",
       " 0.26877379810294233,\n",
       " 0.26873528090111354,\n",
       " 0.26863536162134916,\n",
       " 0.268513610471774,\n",
       " 0.2684247698015694,\n",
       " 0.2683268670067542,\n",
       " 0.26819433106839974,\n",
       " 0.26802264833791295,\n",
       " 0.2679471510242986,\n",
       " 0.267943715639157,\n",
       " 0.2679105401412259,\n",
       " 0.26787565014227743,\n",
       " 0.26784805431720393,\n",
       " 0.26784514625319217,\n",
       " 0.26778527925000395,\n",
       " 0.26767413222425,\n",
       " 0.2676127853149295,\n",
       " 0.26751525410051974,\n",
       " 0.26744416222541917,\n",
       " 0.26737025784857305,\n",
       " 0.2673015451566198,\n",
       " 0.2672290129659709,\n",
       " 0.26717837909310077,\n",
       " 0.26711893505877604,\n",
       " 0.2670870417666913,\n",
       " 0.2670496102485523,\n",
       " 0.2669887239775095,\n",
       " 0.2667724277026091,\n",
       " 0.2667650616006959,\n",
       " 0.26656654011542763,\n",
       " 0.266552154681206,\n",
       " 0.2665424694308092,\n",
       " 0.2665404061997287,\n",
       " 0.2663614535455809,\n",
       " 0.26632364616762105,\n",
       " 0.2661918766299238,\n",
       " 0.2661074118634467,\n",
       " 0.26610077212978517,\n",
       " 0.2660017867769395,\n",
       " 0.26595005051422843,\n",
       " 0.26594840049962964,\n",
       " 0.26590818654107357,\n",
       " 0.26587020357270885,\n",
       " 0.26564838939233515,\n",
       " 0.26554296313348036,\n",
       " 0.26553625308239287,\n",
       " 0.2655054205302312,\n",
       " 0.26545169885951725,\n",
       " 0.26520737773909625,\n",
       " 0.2651928815734239,\n",
       " 0.2650588789740428,\n",
       " 0.26499823463058186,\n",
       " 0.2649330815679163,\n",
       " 0.264676207421198,\n",
       " 0.2646713340100179,\n",
       " 0.2645381567128619,\n",
       " 0.264412927888182,\n",
       " 0.2644098026603218,\n",
       " 0.2642940673992825,\n",
       " 0.26428269186327624,\n",
       " 0.2642523732624365,\n",
       " 0.2642245866100422,\n",
       " 0.26390366140230115,\n",
       " 0.26385883002469956,\n",
       " 0.2637482049651119,\n",
       " 0.26367083771333444,\n",
       " 0.26353839168526705,\n",
       " 0.2633953309978601,\n",
       " 0.2633543862747966,\n",
       " 0.2633532985892029,\n",
       " 0.263206010492988,\n",
       " 0.2631413206330421,\n",
       " 0.26306418592467157,\n",
       " 0.2630561367418355,\n",
       " 0.26296470894769763,\n",
       " 0.2628225227650666,\n",
       " 0.2627990949325569,\n",
       " 0.26272649507890966,\n",
       " 0.26267905216268506,\n",
       " 0.2625863155201015,\n",
       " 0.26231221313070885,\n",
       " 0.26230045301005167,\n",
       " 0.2622312797126966,\n",
       " 0.26222668495884993,\n",
       " 0.2621922357646361,\n",
       " 0.26213543314234966,\n",
       " 0.26204689601506814,\n",
       " 0.26200885138803265,\n",
       " 0.2619955746163367,\n",
       " 0.2619475292501094,\n",
       " 0.26185547508974816,\n",
       " 0.26181543455328743,\n",
       " 0.261773912671373,\n",
       " 0.2617295954394699,\n",
       " 0.2616874000585578,\n",
       " 0.261608992887438,\n",
       " 0.2614966011512409,\n",
       " 0.2613278801076028,\n",
       " 0.2612361983731179,\n",
       " 0.2611710358140861,\n",
       " 0.2611207405021407,\n",
       " 0.2610236801936319,\n",
       " 0.2610029728804045,\n",
       " 0.2609962512237573,\n",
       " 0.2609624522112519,\n",
       " 0.26087374249200374,\n",
       " 0.26086574010314273,\n",
       " 0.2607046053962375,\n",
       " 0.26067885244985406,\n",
       " 0.2606777696171818,\n",
       " 0.26057059146277645,\n",
       " 0.2604796679525613,\n",
       " 0.26045858604343597,\n",
       " 0.2602953684975006,\n",
       " 0.2602792433129419,\n",
       " 0.26024006173183867,\n",
       " 0.26017629538166637,\n",
       " 0.26013984935001616,\n",
       " 0.26011198620611264,\n",
       " 0.2597436745792991,\n",
       " 0.25971379692443186,\n",
       " 0.2596402977594339,\n",
       " 0.2595413401443339,\n",
       " 0.25952871770678976,\n",
       " 0.2593971454958619,\n",
       " 0.25936211518249963,\n",
       " 0.25933072992815887,\n",
       " 0.2593105610662697,\n",
       " 0.25929957608272686,\n",
       " 0.259291506351864,\n",
       " 0.2592482979828522,\n",
       " 0.2591643150795277,\n",
       " 0.25914697266290276,\n",
       " 0.2589602745702329,\n",
       " 0.25893862277275004,\n",
       " 0.25893260449968736,\n",
       " 0.25866397201476815,\n",
       " 0.2585759551309296,\n",
       " 0.25851997564754486,\n",
       " 0.25851257621310353,\n",
       " 0.2584649590923987,\n",
       " 0.25844854626973046,\n",
       " 0.2584218021269193,\n",
       " 0.2578087436954816,\n",
       " 0.25770567599577104,\n",
       " 0.2576133901675979,\n",
       " 0.2576115099701284,\n",
       " 0.2575578553494343,\n",
       " 0.2573596668812285,\n",
       " 0.25732815421459926,\n",
       " 0.2572828180844168,\n",
       " 0.25723099654321224,\n",
       " 0.2571774787384466,\n",
       " 0.2571720351793817,\n",
       " 0.257117511557733,\n",
       " 0.2570917937956816,\n",
       " 0.2570717543313791,\n",
       " 0.2568371147707302,\n",
       " 0.2568255626550358,\n",
       " 0.25673839187905406,\n",
       " 0.2565602051706504,\n",
       " 0.25652437403909095,\n",
       " 0.25631747261808924,\n",
       " 0.2562375308918789,\n",
       " 0.2562106522092839,\n",
       " 0.25620714204906025,\n",
       " 0.2561605052175004,\n",
       " 0.25599718102936886,\n",
       " 0.25583911261831177,\n",
       " 0.25583542726318126,\n",
       " 0.25567787987682355,\n",
       " 0.25565286178231733,\n",
       " 0.25550874512357313,\n",
       " 0.2554104873211256,\n",
       " 0.2553275486639018,\n",
       " 0.2552548958121113,\n",
       " 0.25520487055753993,\n",
       " 0.2552034726793577,\n",
       " 0.2551838052972665,\n",
       " 0.2550797860321227,\n",
       " 0.25507571347965297,\n",
       " 0.25501135290215077,\n",
       " 0.2549987400348442,\n",
       " 0.25496686197588503,\n",
       " 0.25495938629906667,\n",
       " 0.25495609208527353,\n",
       " 0.25493892254134787,\n",
       " 0.25489814383093085,\n",
       " 0.25486750043296363,\n",
       " 0.2547882112170789,\n",
       " 0.2547541304653321,\n",
       " 0.2547476474790372,\n",
       " 0.2547448692918188,\n",
       " 0.25474416480853623,\n",
       " 0.25471500731173596,\n",
       " 0.2547018566006506,\n",
       " 0.25467583645385145,\n",
       " 0.25464127187353974,\n",
       " 0.2546368130898029,\n",
       " 0.2545757737399029,\n",
       " 0.25441141517085925,\n",
       " 0.25439517744890006,\n",
       " 0.2542367957121016,\n",
       " 0.25421732571180977,\n",
       " 0.2541304866346889,\n",
       " 0.25383377561875803,\n",
       " 0.25369870349178086,\n",
       " 0.25367308679570294,\n",
       " 0.25351001399104534,\n",
       " 0.25343443970354984,\n",
       " 0.2534166067182277,\n",
       " 0.2534030430031565,\n",
       " 0.253369126337569,\n",
       " 0.2533658550439559,\n",
       " 0.25335762910422654,\n",
       " 0.25333322792475127,\n",
       " 0.25324597949210237,\n",
       " 0.2532451931189306,\n",
       " 0.2531627518924172,\n",
       " 0.2530811727550216,\n",
       " 0.25304785884396064,\n",
       " 0.25303220842064994,\n",
       " 0.2529664579019723,\n",
       " 0.2528979750198516,\n",
       " 0.2528964034320882,\n",
       " 0.25289634138191747,\n",
       " 0.2528259037539611,\n",
       " 0.2527892525261851,\n",
       " 0.25278471954333515,\n",
       " 0.252752956980721,\n",
       " 0.252729262923052,\n",
       " 0.2526633215008501,\n",
       " 0.2526317308418305,\n",
       " 0.2525028429256442,\n",
       " 0.2523417166026865,\n",
       " 0.2522377424430428,\n",
       " 0.2521250590193354,\n",
       " 0.2520781935578766,\n",
       " 0.25206728601000705,\n",
       " 0.2520618104471035,\n",
       " 0.2518503513721786,\n",
       " 0.2515653912266763,\n",
       " 0.2515220648371336,\n",
       " 0.25151903058553576,\n",
       " 0.2515065749846063,\n",
       " 0.25150465716235487,\n",
       " 0.25144951391454945,\n",
       " 0.2513046604223955,\n",
       " 0.2511775715034225,\n",
       " 0.2511666235850723,\n",
       " 0.25113378424849847,\n",
       " 0.2511055198427572,\n",
       " 0.2510950895371667,\n",
       " 0.2510368954281889,\n",
       " 0.25097593462148465,\n",
       " 0.2509111187294913,\n",
       " 0.2508979967326089,\n",
       " 0.25083494770635195,\n",
       " 0.2507997350801646,\n",
       " 0.25079326521100764,\n",
       " 0.2507137485538968,\n",
       " 0.2506568030758859,\n",
       " 0.25065521917719963,\n",
       " 0.25044324596856715,\n",
       " 0.2504327412960331,\n",
       " 0.2503983644825368,\n",
       " 0.25039244325825266,\n",
       " 0.25028248922059215,\n",
       " 0.2502424633961919,\n",
       " 0.2501039001803067,\n",
       " 0.2500989123304522,\n",
       " 0.25003642025913403,\n",
       " 0.24998246150935577,\n",
       " 0.24979681702970943,\n",
       " 0.24979583045980985,\n",
       " 0.24979139193532432,\n",
       " 0.24977284327975313,\n",
       " 0.24976364175457993,\n",
       " 0.24974387673443774,\n",
       " 0.24972606990996243,\n",
       " 0.24969216320962445,\n",
       " 0.24968505596411233,\n",
       " 0.24961452735523684,\n",
       " 0.24955694878423684,\n",
       " 0.2494619828894326,\n",
       " 0.2494184414384613,\n",
       " 0.24932073134116495,\n",
       " 0.24929696156554212,\n",
       " 0.24924686138572327,\n",
       " 0.2492333410918139,\n",
       " 0.24919310561001062,\n",
       " 0.2491669673528942,\n",
       " 0.24916317619870365,\n",
       " 0.2491542146154702,\n",
       " 0.2489155618128349,\n",
       " 0.24884437754083685,\n",
       " 0.24883908659599466,\n",
       " 0.24871361273780063,\n",
       " 0.24870783430904492,\n",
       " 0.24864663041681778,\n",
       " 0.24856722198069053,\n",
       " 0.24851780982294086,\n",
       " 0.24840989279516693,\n",
       " 0.24828499555112132,\n",
       " 0.24819463349408383,\n",
       " 0.24808858786406615,\n",
       " 0.2480703255385769,\n",
       " 0.24801988731956895,\n",
       " 0.24800263293949718,\n",
       " 0.24799560401701326,\n",
       " 0.24797695894826238,\n",
       " 0.24795835965298282,\n",
       " 0.24790526615941333,\n",
       " 0.24789366807504254,\n",
       " 0.2478567568130348,\n",
       " 0.24783867365435652,\n",
       " 0.24771904029855094,\n",
       " 0.24770881207186438,\n",
       " 0.24766433398813134,\n",
       " 0.24762141492789694,\n",
       " 0.24761203296425177,\n",
       " 0.24746988117752058,\n",
       " 0.24746352312516195,\n",
       " 0.24745916231327314,\n",
       " 0.24744777303645996,\n",
       " 0.24743624512709853,\n",
       " 0.24742260641681152,\n",
       " 0.2474153754740373,\n",
       " 0.24727664811228267,\n",
       " 0.24725011680405276,\n",
       " 0.2471947773443391,\n",
       " 0.24714426176784723,\n",
       " 0.24713943347669956,\n",
       " 0.24709285326686525,\n",
       " 0.2469587921074883,\n",
       " 0.24695348283585175,\n",
       " 0.24685230653292228,\n",
       " 0.24674286391876438,\n",
       " 0.24655136512670173,\n",
       " 0.2465283683263943,\n",
       " 0.24642905909935778,\n",
       " 0.24642685884025692,\n",
       " 0.246386837083919,\n",
       " 0.2463634149905359,\n",
       " 0.24635063999322163,\n",
       " 0.24626873445828257,\n",
       " 0.24624283854572923,\n",
       " 0.2462426267647743,\n",
       " 0.2461521754526007,\n",
       " 0.24614380648905573,\n",
       " 0.2461172302940123,\n",
       " 0.24601807068901355,\n",
       " 0.2459265552202529,\n",
       " 0.24589933489177052,\n",
       " 0.2458831429192691,\n",
       " 0.24587948215030575,\n",
       " 0.2458077885500428,\n",
       " 0.245752343275761,\n",
       " 0.24575090188292137,\n",
       " 0.24571862585756815,\n",
       " 0.2456032267730497,\n",
       " 0.2455371997256985,\n",
       " 0.24552609399663433,\n",
       " 0.24542470711553643,\n",
       " 0.24517675839238276,\n",
       " 0.2451674830173411,\n",
       " 0.2450988617112515,\n",
       " 0.24500835899283868,\n",
       " 0.2449744517944246,\n",
       " 0.24495185739255296,\n",
       " 0.24491033110492,\n",
       " 0.24483172437322936,\n",
       " 0.2447684265709334,\n",
       " 0.2447620267661713,\n",
       " 0.24475340674027632,\n",
       " 0.24473427040579138,\n",
       " 0.2447285927635341,\n",
       " 0.24467668421131836,\n",
       " 0.2446722172003522,\n",
       " 0.24466364666196067,\n",
       " 0.24465165414379234,\n",
       " 0.24454196949645823,\n",
       " 0.24446354326509573,\n",
       " 0.24442790474689424,\n",
       " 0.24438946807587947,\n",
       " 0.24421105928271342,\n",
       " 0.24419608452115446,\n",
       " 0.2441596549568201,\n",
       " 0.2441550991242406,\n",
       " 0.24406087793202663,\n",
       " 0.24401799785397174,\n",
       " 0.24397861614224667,\n",
       " 0.2439664032590795,\n",
       " 0.24395567896396278,\n",
       " 0.2438881303050383,\n",
       " 0.24386941885133062,\n",
       " 0.24377521323830817,\n",
       " 0.24365801360835818,\n",
       " 0.24362281910167544,\n",
       " 0.24358682706108056,\n",
       " 0.24347084694184185,\n",
       " 0.24343910129212265,\n",
       " 0.24341499299003352,\n",
       " 0.24333375174012384,\n",
       " 0.2431866364111555,\n",
       " 0.24313611448559788,\n",
       " 0.24308810700557604,\n",
       " 0.24294021600621207,\n",
       " 0.2428866257040956,\n",
       " 0.24251994468544047,\n",
       " 0.24241053061059767,\n",
       " 0.24237777476182862,\n",
       " 0.24232440187085452,\n",
       " 0.24216325785362425,\n",
       " 0.24212952461341505,\n",
       " 0.24210094321032144,\n",
       " 0.24203091303776475,\n",
       " 0.24200538577737055,\n",
       " 0.2418423253385026,\n",
       " 0.2417886322171261,\n",
       " 0.2417509012209239,\n",
       " 0.2417456715209967,\n",
       " 0.24166388353094023,\n",
       " 0.24160187404664601,\n",
       " 0.24157074681713658,\n",
       " 0.24151059082813456,\n",
       " 0.24150294858381977,\n",
       " 0.24148397628957838,\n",
       " 0.24146011834462705,\n",
       " 0.2414464602141614,\n",
       " 0.2414289527627029,\n",
       " 0.24126874892144975,\n",
       " 0.2412455327367524,\n",
       " 0.24124405898317944,\n",
       " 0.24122952329423458,\n",
       " 0.2412273766406501,\n",
       " 0.241141503658855,\n",
       " 0.2411043387719951,\n",
       " 0.24102047596391682,\n",
       " 0.24096682837350594,\n",
       " 0.2409296711268326,\n",
       " 0.24092069613619815,\n",
       " 0.24090463224135256,\n",
       " 0.24088003430271504,\n",
       " 0.24085618855141322,\n",
       " 0.2408504425244661,\n",
       " 0.24084644385208054,\n",
       " 0.24072925161940595,\n",
       " 0.24069887932088527,\n",
       " 0.2406828311599354,\n",
       " 0.24062161668951354,\n",
       " 0.24060427430970607,\n",
       " 0.2405929798202436,\n",
       " 0.24056486626168488,\n",
       " 0.2405548852187751,\n",
       " 0.24050372674508558,\n",
       " 0.24048418627129695,\n",
       " 0.24044927056603238,\n",
       " 0.2403707015064735,\n",
       " 0.2403636797807058,\n",
       " 0.24022596373472224,\n",
       " 0.2402018154930174,\n",
       " 0.2401607699927638,\n",
       " 0.24010248769794826,\n",
       " 0.24007408370250852,\n",
       " 0.24004097953340714,\n",
       " 0.2399815512194664,\n",
       " 0.2399697184293117,\n",
       " 0.23981853316935411,\n",
       " 0.2398006098161956,\n",
       " 0.23979685744480836,\n",
       " 0.23975117080603744,\n",
       " 0.23966368171916833,\n",
       " 0.23965070830914792,\n",
       " 0.23961768674678843,\n",
       " 0.2396026445137603,\n",
       " 0.23960260691416596,\n",
       " 0.2395937385318293,\n",
       " 0.23957021232518597,\n",
       " 0.23947677971115694,\n",
       " 0.23947517276077945,\n",
       " 0.23942581737231752,\n",
       " 0.2394214645195148,\n",
       " 0.239328839579765,\n",
       " 0.2392861588343915,\n",
       " 0.239226563628699,\n",
       " 0.23918797685722423,\n",
       " 0.23912475882834822,\n",
       " 0.23906684097632236,\n",
       " 0.23896117152121563,\n",
       " 0.23886534543096535,\n",
       " 0.2388493496293885,\n",
       " 0.23884805063973705,\n",
       " 0.23878584940974396,\n",
       " 0.23876566925928105,\n",
       " 0.23870141519150037,\n",
       " 0.23868741886490683,\n",
       " 0.23858012764618952,\n",
       " 0.23857512851813764,\n",
       " 0.23856743778759948,\n",
       " 0.23855159542241763,\n",
       " 0.2385413785537795,\n",
       " 0.23853909865295614,\n",
       " 0.2385367207111171,\n",
       " 0.2385217098470146,\n",
       " 0.2384918970915538,\n",
       " 0.2383842896107144,\n",
       " 0.23837906807617312,\n",
       " 0.23829631346358432,\n",
       " 0.23829626445526797,\n",
       " 0.23827973625102059,\n",
       " 0.2382784629046058,\n",
       " 0.23827276599175207,\n",
       " 0.23824311758900113,\n",
       " 0.23820521679977996,\n",
       " 0.2381338659233929,\n",
       " 0.23813002233170158,\n",
       " 0.2380521950495767,\n",
       " 0.23803652372709733,\n",
       " 0.23803127553905026,\n",
       " 0.23801338805167319,\n",
       " 0.23797268421170842,\n",
       " 0.23792873739817844,\n",
       " 0.2379022746653967,\n",
       " 0.23785763362859005,\n",
       " 0.2378555098715597,\n",
       " 0.23785344566078026,\n",
       " 0.23784150965932185,\n",
       " 0.2377884984441246,\n",
       " 0.2377364354771595,\n",
       " 0.23771658376255525,\n",
       " 0.23765328501694832,\n",
       " 0.2376267117415725,\n",
       " 0.23756733836960592,\n",
       " 0.237552802523365,\n",
       " 0.23751005243733053,\n",
       " 0.23750085919724875,\n",
       " 0.2373547508499058,\n",
       " 0.23735028155449298,\n",
       " 0.23734679021780877,\n",
       " 0.23731217993107218,\n",
       " 0.23724045100295946,\n",
       " 0.23712262646251284,\n",
       " 0.23708830201401604,\n",
       " 0.2370731557799643,\n",
       " 0.23706922807958372,\n",
       " 0.23705950181035404,\n",
       " 0.23703446407376855,\n",
       " 0.23701250249117134,\n",
       " 0.2370078668137958,\n",
       " 0.23699169266386982,\n",
       " 0.2369808488890489,\n",
       " 0.23698045334501386,\n",
       " 0.23693017743498448,\n",
       " 0.23693010972842665,\n",
       " 0.23686311439908564,\n",
       " 0.2368512793613594,\n",
       " 0.23683307695084815,\n",
       " 0.23682403505807498,\n",
       " 0.2368171334365016,\n",
       " 0.2367766277472957,\n",
       " 0.23672783675247072,\n",
       " 0.23667924557718314,\n",
       " 0.2366511160115566,\n",
       " 0.2366506308768386,\n",
       " 0.2366392720258348,\n",
       " 0.2366224058405571,\n",
       " 0.23661105630809573,\n",
       " 0.23654855634563648,\n",
       " 0.23647010647783342,\n",
       " 0.23646739807109202,\n",
       " 0.2364107791247358,\n",
       " 0.2363759413339941,\n",
       " 0.23632788588518266,\n",
       " 0.2363253976522971,\n",
       " 0.2363201884890839,\n",
       " 0.23625380559198803,\n",
       " 0.23608445673809655,\n",
       " 0.236063017639476,\n",
       " 0.23602015747343483,\n",
       " 0.23595941088738642,\n",
       " 0.23595268580704357,\n",
       " 0.23593619199217658,\n",
       " 0.23591417329040265,\n",
       " 0.2359004950528209,\n",
       " 0.2358945629629773,\n",
       " 0.23589087257994595,\n",
       " 0.23588360169167896,\n",
       " 0.2358787333339938,\n",
       " 0.2358779575313912,\n",
       " 0.2358014820099005,\n",
       " 0.23578977912219864,\n",
       " 0.23578553583480147,\n",
       " 0.23577087776149305,\n",
       " 0.23572719128567737,\n",
       " 0.2356672826849139,\n",
       " 0.2356517211537613,\n",
       " 0.23558768827046173,\n",
       " 0.23555402225105887,\n",
       " 0.23540004531759562,\n",
       " 0.23539713661012093,\n",
       " 0.23537753239359488,\n",
       " 0.23532309214247585,\n",
       " 0.23531804570193246,\n",
       " 0.23525647103105254,\n",
       " 0.23521548697213204,\n",
       " 0.2351859562220198,\n",
       " 0.23518563276237078,\n",
       " 0.23513649834777622,\n",
       " 0.23511341272616626,\n",
       " 0.23511315980651212,\n",
       " 0.23510917814320967,\n",
       " 0.23507502784363404,\n",
       " 0.23505903033994965,\n",
       " 0.23498270709332278,\n",
       " 0.23497864273784677,\n",
       " 0.23497122440382057,\n",
       " 0.23493388250878589,\n",
       " 0.23488828460842354,\n",
       " 0.23488645784214046,\n",
       " 0.23487740003637453,\n",
       " 0.23482719498248855,\n",
       " 0.23482610251516972,\n",
       " 0.23481370624328834,\n",
       " 0.2347990242209231,\n",
       " 0.23479683028739493,\n",
       " 0.23479253953483703,\n",
       " 0.23477014706759697,\n",
       " 0.23473274281494272,\n",
       " 0.23472036487270898,\n",
       " 0.23460852157252038,\n",
       " 0.23454846076302685,\n",
       " 0.2345399547353907,\n",
       " 0.23447022704151438,\n",
       " 0.23446799504636234,\n",
       " 0.23446035679197133,\n",
       " 0.23438695756394737,\n",
       " 0.2343476279374024,\n",
       " 0.234311340925807,\n",
       " 0.23428633188228373,\n",
       " 0.23426220971446948,\n",
       " 0.23425985179294262,\n",
       " 0.2342302641288478,\n",
       " 0.23419423867379727,\n",
       " 0.2341883166136446,\n",
       " 0.23418453211691748,\n",
       " 0.23418126182214088,\n",
       " 0.23412876963085538,\n",
       " 0.23411757924739687,\n",
       " 0.2340826359227301,\n",
       " 0.23404383325596195,\n",
       " 0.23399539971261982,\n",
       " 0.23399341281701685,\n",
       " 0.23398462396675776,\n",
       " 0.23387612673097916,\n",
       " 0.23386120327644694,\n",
       " 0.23385106094628635,\n",
       " 0.23381079182484765,\n",
       " 0.23372778273309877,\n",
       " 0.2336644672023343,\n",
       " 0.2336636816901717,\n",
       " 0.23365038287616924,\n",
       " 0.2335804315565699,\n",
       " 0.23348877871467005,\n",
       " 0.23347326365270632,\n",
       " 0.23346300119576854,\n",
       " 0.23342025854600212,\n",
       " 0.233366794583761,\n",
       " 0.2333465897809966,\n",
       " 0.23334490242796455,\n",
       " 0.2332886645840771,\n",
       " 0.23327821915097952,\n",
       " 0.2332419299854043,\n",
       " 0.23318847386894495,\n",
       " 0.23318285650503115,\n",
       " 0.23314642508386232,\n",
       " 0.23313438849987042,\n",
       " 0.2331326774486467,\n",
       " 0.23312921806382947,\n",
       " 0.23308858721240272,\n",
       " 0.23306184799596194,\n",
       " 0.2329863316025591,\n",
       " 0.23287628060458898,\n",
       " ...]"
      ]
     },
     "execution_count": 47,
     "metadata": {},
     "output_type": "execute_result"
    }
   ],
   "source": [
    "sorted(sim[10], reverse=True)"
   ]
  },
  {
   "cell_type": "code",
   "execution_count": 37,
   "id": "83744627",
   "metadata": {},
   "outputs": [
    {
     "name": "stderr",
     "output_type": "stream",
     "text": [
      "<ipython-input-37-586c929f79c2>:1: RuntimeWarning: invalid value encountered in true_divide\n",
      "  pred = average_user_rating + 5*np.nan_to_num((sim * model.normalized_ratings[\n"
     ]
    }
   ],
   "source": [
    "pred = average_user_rating + 5*np.nan_to_num((sim * model.normalized_ratings[\n",
    "            ..., movie_indexes].transpose()).sum(1) / np.abs(sim).sum(-1))"
   ]
  },
  {
   "cell_type": "code",
   "execution_count": 38,
   "id": "ba9dfa4a",
   "metadata": {},
   "outputs": [],
   "source": [
    "from sklearn.metrics import mean_squared_error, r2_score, mean_absolute_error"
   ]
  },
  {
   "cell_type": "code",
   "execution_count": 39,
   "id": "05bf7eac",
   "metadata": {},
   "outputs": [
    {
     "data": {
      "text/plain": [
       "0.7500408262026849"
      ]
     },
     "execution_count": 39,
     "metadata": {},
     "output_type": "execute_result"
    }
   ],
   "source": [
    "mean_absolute_error(test_rating, pred)"
   ]
  },
  {
   "cell_type": "code",
   "execution_count": 30,
   "id": "6823e9c7",
   "metadata": {},
   "outputs": [
    {
     "data": {
      "text/plain": [
       "0.7820001417724407"
      ]
     },
     "execution_count": 30,
     "metadata": {},
     "output_type": "execute_result"
    }
   ],
   "source": [
    "mean_absolute_error(test_rating, model.get_average_rating(test_pairs))"
   ]
  },
  {
   "cell_type": "code",
   "execution_count": 35,
   "id": "06517d03",
   "metadata": {},
   "outputs": [],
   "source": [
    "diff = _"
   ]
  },
  {
   "cell_type": "code",
   "execution_count": 45,
   "id": "206437dc",
   "metadata": {},
   "outputs": [
    {
     "data": {
      "text/plain": [
       "(array([1.4000e+01, 5.3000e+01, 1.4400e+02, 2.6600e+02, 4.4800e+02,\n",
       "        2.7384e+04, 4.2900e+02, 1.9200e+02, 4.6000e+01, 2.0000e+00]),\n",
       " array([-3.32673267, -2.70112654, -2.07552041, -1.44991428, -0.82430816,\n",
       "        -0.19870203,  0.4269041 ,  1.05251023,  1.67811636,  2.30372249,\n",
       "         2.92932862]),\n",
       " <BarContainer object of 10 artists>)"
      ]
     },
     "execution_count": 45,
     "metadata": {},
     "output_type": "execute_result"
    },
    {
     "data": {
      "image/png": "[encoded data removed]",
      "text/plain": [
       "<Figure size 432x288 with 1 Axes>"
      ]
     },
     "metadata": {
      "needs_background": "light"
     },
     "output_type": "display_data"
    }
   ],
   "source": [
    "plt.hist(model.normalized_ratings[..., 1])"
   ]
  },
  {
   "cell_type": "code",
   "execution_count": 38,
   "id": "45f42e21",
   "metadata": {},
   "outputs": [
    {
     "data": {
      "text/plain": [
       "(array([   4.,   12.,  175., 1380., 1669., 1630., 2546., 2063.,  479.,\n",
       "          42.]),\n",
       " array([-0.2433447 , -0.19316638, -0.14298805, -0.09280972, -0.04263139,\n",
       "         0.00754694,  0.05772526,  0.10790359,  0.15808192,  0.20826025,\n",
       "         0.25843858]),\n",
       " <BarContainer object of 10 artists>)"
      ]
     },
     "execution_count": 38,
     "metadata": {},
     "output_type": "execute_result"
    },
    {
     "data": {
      "image/png": "[encoded data removed]",
      "text/plain": [
       "<Figure size 432x288 with 1 Axes>"
      ]
     },
     "metadata": {
      "needs_background": "light"
     },
     "output_type": "display_data"
    }
   ],
   "source": [
    "plt.hist(diff)"
   ]
  },
  {
   "cell_type": "code",
   "execution_count": 44,
   "id": "5f59423d",
   "metadata": {},
   "outputs": [
    {
     "data": {
      "text/plain": [
       "array([2625.81701707, 1735.19012555, 2359.34640818, ..., 1480.94826585,\n",
       "       1420.31893306, 1639.50956407])"
      ]
     },
     "execution_count": 44,
     "metadata": {},
     "output_type": "execute_result"
    }
   ],
   "source": [
    "np.abs(sim).sum(-1)"
   ]
  },
  {
   "cell_type": "code",
   "execution_count": null,
   "id": "61177b27",
   "metadata": {},
   "outputs": [],
   "source": []
  },
  {
   "cell_type": "code",
   "execution_count": 116,
   "id": "2c5082b1",
   "metadata": {
    "scrolled": true
   },
   "outputs": [],
   "source": [
    "# for elm in model.rating_matrix[0]:\n",
    "#     if elm != 0:\n",
    "#         print(elm)"
   ]
  },
  {
   "cell_type": "code",
   "execution_count": 112,
   "id": "c95ee1b5",
   "metadata": {},
   "outputs": [
    {
     "data": {
      "text/plain": [
       "2.8"
      ]
     },
     "execution_count": 112,
     "metadata": {},
     "output_type": "execute_result"
    }
   ],
   "source": [
    "model.rating_matrix[0].sum() / (model.rating_matrix[0] != 0).sum()"
   ]
  },
  {
   "cell_type": "code",
   "execution_count": 113,
   "id": "48c06e22",
   "metadata": {},
   "outputs": [
    {
     "data": {
      "text/plain": [
       "array([2.8       , 3.07432432, 3.36641221, ..., 3.84      , 4.16      ,\n",
       "       3.12222222])"
      ]
     },
     "execution_count": 113,
     "metadata": {},
     "output_type": "execute_result"
    }
   ],
   "source": [
    "model.average_ratings"
   ]
  },
  {
   "cell_type": "code",
   "execution_count": 115,
   "id": "ad76707b",
   "metadata": {
    "scrolled": true
   },
   "outputs": [
    {
     "name": "stdout",
     "output_type": "stream",
     "text": [
      "-1.7999999999999998\n",
      "-1.7999999999999998\n",
      "0.20000000000000018\n",
      "-0.7999999999999998\n",
      "1.2000000000000002\n",
      "-1.7999999999999998\n",
      "0.20000000000000018\n",
      "-0.7999999999999998\n",
      "-0.7999999999999998\n",
      "-0.7999999999999998\n",
      "1.2000000000000002\n",
      "-1.7999999999999998\n",
      "-0.7999999999999998\n",
      "0.20000000000000018\n",
      "0.20000000000000018\n",
      "1.2000000000000002\n",
      "2.2\n",
      "0.20000000000000018\n",
      "-0.7999999999999998\n",
      "1.2000000000000002\n",
      "0.20000000000000018\n",
      "0.20000000000000018\n",
      "-1.7999999999999998\n",
      "0.20000000000000018\n",
      "-1.7999999999999998\n",
      "2.2\n",
      "0.20000000000000018\n",
      "-0.7999999999999998\n",
      "1.2000000000000002\n",
      "0.20000000000000018\n",
      "0.20000000000000018\n",
      "0.20000000000000018\n",
      "0.20000000000000018\n",
      "-1.7999999999999998\n",
      "0.20000000000000018\n",
      "-0.7999999999999998\n",
      "1.2000000000000002\n",
      "-0.7999999999999998\n",
      "1.2000000000000002\n",
      "1.2000000000000002\n",
      "0.20000000000000018\n",
      "0.20000000000000018\n",
      "-0.7999999999999998\n",
      "-1.7999999999999998\n",
      "0.20000000000000018\n",
      "0.20000000000000018\n",
      "-0.7999999999999998\n",
      "1.2000000000000002\n",
      "-0.7999999999999998\n",
      "-0.7999999999999998\n",
      "1.2000000000000002\n",
      "-0.7999999999999998\n",
      "-1.7999999999999998\n",
      "0.20000000000000018\n",
      "2.2\n",
      "0.20000000000000018\n",
      "-0.7999999999999998\n",
      "0.20000000000000018\n",
      "2.2\n",
      "0.20000000000000018\n",
      "-1.7999999999999998\n",
      "0.20000000000000018\n",
      "0.20000000000000018\n",
      "1.2000000000000002\n",
      "-0.7999999999999998\n",
      "-1.7999999999999998\n",
      "-0.7999999999999998\n",
      "-0.7999999999999998\n",
      "2.2\n",
      "0.20000000000000018\n",
      "0.20000000000000018\n",
      "0.20000000000000018\n",
      "1.2000000000000002\n",
      "0.20000000000000018\n",
      "-0.7999999999999998\n",
      "0.20000000000000018\n",
      "-0.7999999999999998\n",
      "0.20000000000000018\n",
      "1.2000000000000002\n",
      "0.20000000000000018\n",
      "1.2000000000000002\n",
      "-0.7999999999999998\n",
      "0.20000000000000018\n",
      "0.20000000000000018\n",
      "2.2\n"
     ]
    }
   ],
   "source": [
    "for elm in model.normalized_ratings[0]:\n",
    "    if elm != 0:\n",
    "        print(elm)"
   ]
  },
  {
   "cell_type": "code",
   "execution_count": null,
   "id": "ea88adcf",
   "metadata": {},
   "outputs": [],
   "source": []
  },
  {
   "cell_type": "code",
   "execution_count": 99,
   "id": "53e54905",
   "metadata": {},
   "outputs": [
    {
     "data": {
      "text/plain": [
       "238.0"
      ]
     },
     "execution_count": 99,
     "metadata": {},
     "output_type": "execute_result"
    }
   ],
   "source": [
    "model.rating_matrix[0].sum()"
   ]
  },
  {
   "cell_type": "code",
   "execution_count": 87,
   "id": "956125a4",
   "metadata": {},
   "outputs": [
    {
     "name": "stderr",
     "output_type": "stream",
     "text": [
      "<ipython-input-87-1a87acf6a32f>:1: RuntimeWarning: invalid value encountered in true_divide\n",
      "  plt.hist(np.nan_to_num((sim * model.normalized_ratings[\n"
     ]
    },
    {
     "data": {
      "text/plain": [
       "(array([  1.,   1.,   2.,  39., 227., 653., 698., 305.,  66.,   8.]),\n",
       " array([-0.22401274, -0.19411864, -0.16422455, -0.13433046, -0.10443636,\n",
       "        -0.07454227, -0.04464817, -0.01475408,  0.01514002,  0.04503411,\n",
       "         0.0749282 ]),\n",
       " <BarContainer object of 10 artists>)"
      ]
     },
     "execution_count": 87,
     "metadata": {},
     "output_type": "execute_result"
    },
    {
     "data": {
      "image/png": "[encoded data removed]",
      "text/plain": [
       "<Figure size 432x288 with 1 Axes>"
      ]
     },
     "metadata": {
      "needs_background": "light"
     },
     "output_type": "display_data"
    }
   ],
   "source": [
    "plt.hist(np.nan_to_num((sim * model.normalized_ratings[\n",
    "            ..., movie_indexes].transpose()).sum(1) / np.abs(sim).sum(-1)))"
   ]
  },
  {
   "cell_type": "code",
   "execution_count": 83,
   "id": "6ae1aa0c",
   "metadata": {},
   "outputs": [
    {
     "name": "stderr",
     "output_type": "stream",
     "text": [
      "<ipython-input-83-391d2a7bc5bb>:1: RuntimeWarning: invalid value encountered in true_divide\n",
      "  average_user_rating + np.nan_to_num((sim * model.normalized_ratings[\n"
     ]
    },
    {
     "data": {
      "text/plain": [
       "array([2.39480543, 3.09073628, 3.50592165, ..., 3.65124713, 3.77836042,\n",
       "       3.69414194])"
      ]
     },
     "execution_count": 83,
     "metadata": {},
     "output_type": "execute_result"
    }
   ],
   "source": [
    "average_user_rating + np.nan_to_num((sim * model.normalized_ratings[\n",
    "            ..., movie_indexes].transpose()).sum(1) / np.abs(sim).sum(-1))"
   ]
  },
  {
   "cell_type": "markdown",
   "id": "dc9252a0",
   "metadata": {},
   "source": [
    "### Toy Dataset"
   ]
  },
  {
   "cell_type": "code",
   "execution_count": 10,
   "id": "4b18ff04",
   "metadata": {},
   "outputs": [
    {
     "data": {
      "text/plain": [
       "(28978,)"
      ]
     },
     "execution_count": 10,
     "metadata": {},
     "output_type": "execute_result"
    }
   ],
   "source": [
    "np.count_nonzero(train_matrix, axis=-1).shape"
   ]
  },
  {
   "cell_type": "code",
   "execution_count": 163,
   "id": "fbf6aa9c",
   "metadata": {},
   "outputs": [],
   "source": [
    "model = CollaborativeFilteringModel()"
   ]
  },
  {
   "cell_type": "code",
   "execution_count": 164,
   "id": "952de086",
   "metadata": {},
   "outputs": [],
   "source": [
    "x = np.array([[3, 0, 0 , 1 ,5 ], [3, 0, 3, 1, 5], [5, 1, 3, 2, 1]])"
   ]
  },
  {
   "cell_type": "code",
   "execution_count": 165,
   "id": "66afe2ac",
   "metadata": {},
   "outputs": [
    {
     "data": {
      "text/plain": [
       "array([[3, 0, 0, 1, 5],\n",
       "       [3, 0, 3, 1, 5],\n",
       "       [5, 1, 3, 2, 1]])"
      ]
     },
     "execution_count": 165,
     "metadata": {},
     "output_type": "execute_result"
    }
   ],
   "source": [
    "x"
   ]
  },
  {
   "cell_type": "code",
   "execution_count": 166,
   "id": "3b8ec8a0",
   "metadata": {},
   "outputs": [],
   "source": [
    "x = x.astype(\"float64\")"
   ]
  },
  {
   "cell_type": "code",
   "execution_count": 167,
   "id": "8bf8b3ce",
   "metadata": {},
   "outputs": [],
   "source": [
    "model.fit_model(x)"
   ]
  },
  {
   "cell_type": "code",
   "execution_count": 168,
   "id": "5e5f91f9",
   "metadata": {},
   "outputs": [
    {
     "data": {
      "text/plain": [
       "array([[ 1.        ,  1.        , -0.21128856],\n",
       "       [ 1.        ,  1.        , -0.21128856],\n",
       "       [-0.21128856, -0.21128856,  1.        ]])"
      ]
     },
     "execution_count": 168,
     "metadata": {},
     "output_type": "execute_result"
    }
   ],
   "source": [
    "model.similarity"
   ]
  },
  {
   "cell_type": "code",
   "execution_count": 169,
   "id": "fe660889",
   "metadata": {},
   "outputs": [
    {
     "data": {
      "text/plain": [
       "array([[0, 2]])"
      ]
     },
     "execution_count": 169,
     "metadata": {},
     "output_type": "execute_result"
    }
   ],
   "source": [
    "query = np.array([[0,2]])\n",
    "query"
   ]
  },
  {
   "cell_type": "code",
   "execution_count": 170,
   "id": "fb40d9a9",
   "metadata": {},
   "outputs": [],
   "source": [
    "user_indexes = query[..., 0]\n",
    "movie_indexes = query[..., 1]"
   ]
  },
  {
   "cell_type": "code",
   "execution_count": 171,
   "id": "ccf0932a",
   "metadata": {},
   "outputs": [
    {
     "data": {
      "text/plain": [
       "array([2])"
      ]
     },
     "execution_count": 171,
     "metadata": {},
     "output_type": "execute_result"
    }
   ],
   "source": [
    "movie_indexes"
   ]
  },
  {
   "cell_type": "code",
   "execution_count": 172,
   "id": "900bb878",
   "metadata": {},
   "outputs": [],
   "source": [
    "average_user_rating = model.average_ratings[user_indexes]"
   ]
  },
  {
   "cell_type": "code",
   "execution_count": 173,
   "id": "1f39882e",
   "metadata": {},
   "outputs": [
    {
     "data": {
      "text/plain": [
       "array([3.])"
      ]
     },
     "execution_count": 173,
     "metadata": {},
     "output_type": "execute_result"
    }
   ],
   "source": [
    "average_user_rating"
   ]
  },
  {
   "cell_type": "code",
   "execution_count": 174,
   "id": "1cb7e852",
   "metadata": {},
   "outputs": [],
   "source": [
    "sim = model.similarity[user_indexes]"
   ]
  },
  {
   "cell_type": "code",
   "execution_count": 175,
   "id": "8d5c2587",
   "metadata": {},
   "outputs": [
    {
     "data": {
      "text/plain": [
       "array([1.25194099])"
      ]
     },
     "execution_count": 175,
     "metadata": {},
     "output_type": "execute_result"
    }
   ],
   "source": [
    "average_user_rating + (sim * model.normalized_ratings[..., movie_indexes].transpose()).sum(1) / sim.sum(-1)"
   ]
  },
  {
   "cell_type": "code",
   "execution_count": 176,
   "id": "eefc87c3",
   "metadata": {},
   "outputs": [
    {
     "data": {
      "text/plain": [
       "array([1.25194099])"
      ]
     },
     "execution_count": 176,
     "metadata": {},
     "output_type": "execute_result"
    }
   ],
   "source": [
    "model.predict(query)"
   ]
  },
  {
   "cell_type": "code",
   "execution_count": null,
   "id": "c0b6ca40",
   "metadata": {},
   "outputs": [],
   "source": []
  }
 ],
 "metadata": {
  "kernelspec": {
   "display_name": "Python 3",
   "language": "python",
   "name": "python3"
  },
  "language_info": {
   "codemirror_mode": {
    "name": "ipython",
    "version": 3
   },
   "file_extension": ".py",
   "mimetype": "text/x-python",
   "name": "python",
   "nbconvert_exporter": "python",
   "pygments_lexer": "ipython3",
   "version": "3.8.10"
  }
 },
 "nbformat": 4,
 "nbformat_minor": 5
}
