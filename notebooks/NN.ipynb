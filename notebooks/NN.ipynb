{
 "cells": [
  {
   "cell_type": "code",
   "execution_count": 1,
   "id": "973c93ed",
   "metadata": {},
   "outputs": [],
   "source": [
    "from sklearn.datasets import fetch_openml\n",
    "\n",
    "X, y = fetch_openml(\"mnist_784\", version=1, return_X_y=True)\n",
    "\n",
    "X = X / 255."
   ]
  },
  {
   "cell_type": "code",
   "execution_count": 1,
   "id": "0c8a250d",
   "metadata": {},
   "outputs": [],
   "source": [
    "x_train, y_train = X[:60000], y[:60000]\n",
    "x_test, y_test = X[60000:], y[60000:]\n",
    "\n",
    "from sklearn.neural_network import MLPClassifier\n",
    "\n",
    "# learning_rate_init = 0.001\n",
    "# hidden_layer_sizes = (100)\n",
    "# activation = \"relu\"\n",
    "\n",
    "for learning_rate_init in [0.01, 0.001, 0.0001]:\n",
    "    for hidden_layer_sizes in [(100), (200, 100), (10, 10)]:\n",
    "        for activation in [\"relu\", \"tanh\", \"sigmoid\"]:\n",
    "            \n",
    "            model = MLPClassifier(\n",
    "                hidden_layer_sizes=hidden_layer_sizes, learning_rate_init=learning_rate_init\n",
    "            )\n",
    "            model.fit(x_train, y_train)\n",
    "            print(\"hidden_layer_sizes {}, activation {}, learning_rate_init {}\".format(\n",
    "                hidden_layer_sizes, activation,learning_rate_init )\n",
    "            )\n",
    "            print(model.score(x_test, y_test))"
   ]
  },
  {
   "cell_type": "code",
   "execution_count": 2,
   "id": "ecf45713",
   "metadata": {},
   "outputs": [],
   "source": [
    "X, y = fetch_openml(\"mnist_784\", version=1, return_X_y=True)"
   ]
  },
  {
   "cell_type": "code",
   "execution_count": 3,
   "id": "94c14528",
   "metadata": {},
   "outputs": [],
   "source": [
    "X = X / 255."
   ]
  },
  {
   "cell_type": "code",
   "execution_count": 4,
   "id": "4960b550",
   "metadata": {},
   "outputs": [],
   "source": [
    "x_train, y_train = X[:60000], y[:60000]\n",
    "x_test, y_test = X[60000:], y[60000:]"
   ]
  },
  {
   "cell_type": "code",
   "execution_count": 5,
   "id": "e209b98f",
   "metadata": {},
   "outputs": [],
   "source": [
    "from sklearn.neural_network import MLPClassifier"
   ]
  },
  {
   "cell_type": "code",
   "execution_count": 10,
   "id": "df00a473",
   "metadata": {},
   "outputs": [],
   "source": [
    "# learning_rate_init = 0.001\n",
    "# hidden_layer_sizes = (100)\n",
    "# activation = \"relu\""
   ]
  },
  {
   "cell_type": "code",
   "execution_count": 11,
   "id": "6c6985c7",
   "metadata": {},
   "outputs": [
    {
     "name": "stdout",
     "output_type": "stream",
     "text": [
      "hidden_layer_sizes 100, activation relu, learning_rate_init 0.01\n",
      "0.9768\n",
      "hidden_layer_sizes 100, activation tanh, learning_rate_init 0.01\n",
      "0.9734\n",
      "hidden_layer_sizes 100, activation sigmoid, learning_rate_init 0.01\n",
      "0.9749\n",
      "hidden_layer_sizes (200, 100), activation relu, learning_rate_init 0.01\n",
      "0.9741\n",
      "hidden_layer_sizes (200, 100), activation tanh, learning_rate_init 0.01\n",
      "0.9758\n",
      "hidden_layer_sizes (200, 100), activation sigmoid, learning_rate_init 0.01\n",
      "0.9754\n",
      "hidden_layer_sizes (10, 10), activation relu, learning_rate_init 0.01\n",
      "0.938\n",
      "hidden_layer_sizes (10, 10), activation tanh, learning_rate_init 0.01\n",
      "0.9361\n",
      "hidden_layer_sizes (10, 10), activation sigmoid, learning_rate_init 0.01\n",
      "0.9371\n",
      "hidden_layer_sizes 100, activation relu, learning_rate_init 0.001\n",
      "0.9785\n",
      "hidden_layer_sizes 100, activation tanh, learning_rate_init 0.001\n",
      "0.9777\n",
      "hidden_layer_sizes 100, activation sigmoid, learning_rate_init 0.001\n",
      "0.98\n",
      "hidden_layer_sizes (200, 100), activation relu, learning_rate_init 0.001\n",
      "0.9831\n",
      "hidden_layer_sizes (200, 100), activation tanh, learning_rate_init 0.001\n",
      "0.9805\n",
      "hidden_layer_sizes (200, 100), activation sigmoid, learning_rate_init 0.001\n",
      "0.9826\n"
     ]
    },
    {
     "name": "stderr",
     "output_type": "stream",
     "text": [
      "/Users/biswadipmandal/miniforge3/envs/tf_m1/lib/python3.8/site-packages/sklearn/neural_network/_multilayer_perceptron.py:614: ConvergenceWarning: Stochastic Optimizer: Maximum iterations (200) reached and the optimization hasn't converged yet.\n",
      "  warnings.warn(\n"
     ]
    },
    {
     "name": "stdout",
     "output_type": "stream",
     "text": [
      "hidden_layer_sizes (10, 10), activation relu, learning_rate_init 0.001\n",
      "0.9407\n"
     ]
    },
    {
     "name": "stderr",
     "output_type": "stream",
     "text": [
      "/Users/biswadipmandal/miniforge3/envs/tf_m1/lib/python3.8/site-packages/sklearn/neural_network/_multilayer_perceptron.py:614: ConvergenceWarning: Stochastic Optimizer: Maximum iterations (200) reached and the optimization hasn't converged yet.\n",
      "  warnings.warn(\n"
     ]
    },
    {
     "name": "stdout",
     "output_type": "stream",
     "text": [
      "hidden_layer_sizes (10, 10), activation tanh, learning_rate_init 0.001\n",
      "0.9384\n"
     ]
    },
    {
     "name": "stderr",
     "output_type": "stream",
     "text": [
      "/Users/biswadipmandal/miniforge3/envs/tf_m1/lib/python3.8/site-packages/sklearn/neural_network/_multilayer_perceptron.py:614: ConvergenceWarning: Stochastic Optimizer: Maximum iterations (200) reached and the optimization hasn't converged yet.\n",
      "  warnings.warn(\n"
     ]
    },
    {
     "name": "stdout",
     "output_type": "stream",
     "text": [
      "hidden_layer_sizes (10, 10), activation sigmoid, learning_rate_init 0.001\n",
      "0.9412\n"
     ]
    },
    {
     "name": "stderr",
     "output_type": "stream",
     "text": [
      "/Users/biswadipmandal/miniforge3/envs/tf_m1/lib/python3.8/site-packages/sklearn/neural_network/_multilayer_perceptron.py:614: ConvergenceWarning: Stochastic Optimizer: Maximum iterations (200) reached and the optimization hasn't converged yet.\n",
      "  warnings.warn(\n"
     ]
    },
    {
     "name": "stdout",
     "output_type": "stream",
     "text": [
      "hidden_layer_sizes 100, activation relu, learning_rate_init 0.0001\n",
      "0.9774\n"
     ]
    },
    {
     "name": "stderr",
     "output_type": "stream",
     "text": [
      "/Users/biswadipmandal/miniforge3/envs/tf_m1/lib/python3.8/site-packages/sklearn/neural_network/_multilayer_perceptron.py:614: ConvergenceWarning: Stochastic Optimizer: Maximum iterations (200) reached and the optimization hasn't converged yet.\n",
      "  warnings.warn(\n"
     ]
    },
    {
     "name": "stdout",
     "output_type": "stream",
     "text": [
      "hidden_layer_sizes 100, activation tanh, learning_rate_init 0.0001\n",
      "0.9777\n"
     ]
    },
    {
     "name": "stderr",
     "output_type": "stream",
     "text": [
      "/Users/biswadipmandal/miniforge3/envs/tf_m1/lib/python3.8/site-packages/sklearn/neural_network/_multilayer_perceptron.py:614: ConvergenceWarning: Stochastic Optimizer: Maximum iterations (200) reached and the optimization hasn't converged yet.\n",
      "  warnings.warn(\n"
     ]
    },
    {
     "name": "stdout",
     "output_type": "stream",
     "text": [
      "hidden_layer_sizes 100, activation sigmoid, learning_rate_init 0.0001\n",
      "0.9767\n",
      "hidden_layer_sizes (200, 100), activation relu, learning_rate_init 0.0001\n",
      "0.9798\n",
      "hidden_layer_sizes (200, 100), activation tanh, learning_rate_init 0.0001\n",
      "0.9787\n",
      "hidden_layer_sizes (200, 100), activation sigmoid, learning_rate_init 0.0001\n",
      "0.9778\n"
     ]
    },
    {
     "name": "stderr",
     "output_type": "stream",
     "text": [
      "/Users/biswadipmandal/miniforge3/envs/tf_m1/lib/python3.8/site-packages/sklearn/neural_network/_multilayer_perceptron.py:614: ConvergenceWarning: Stochastic Optimizer: Maximum iterations (200) reached and the optimization hasn't converged yet.\n",
      "  warnings.warn(\n"
     ]
    },
    {
     "name": "stdout",
     "output_type": "stream",
     "text": [
      "hidden_layer_sizes (10, 10), activation relu, learning_rate_init 0.0001\n",
      "0.9392\n"
     ]
    },
    {
     "name": "stderr",
     "output_type": "stream",
     "text": [
      "/Users/biswadipmandal/miniforge3/envs/tf_m1/lib/python3.8/site-packages/sklearn/neural_network/_multilayer_perceptron.py:614: ConvergenceWarning: Stochastic Optimizer: Maximum iterations (200) reached and the optimization hasn't converged yet.\n",
      "  warnings.warn(\n"
     ]
    },
    {
     "name": "stdout",
     "output_type": "stream",
     "text": [
      "hidden_layer_sizes (10, 10), activation tanh, learning_rate_init 0.0001\n",
      "0.935\n",
      "hidden_layer_sizes (10, 10), activation sigmoid, learning_rate_init 0.0001\n",
      "0.9347\n"
     ]
    },
    {
     "name": "stderr",
     "output_type": "stream",
     "text": [
      "/Users/biswadipmandal/miniforge3/envs/tf_m1/lib/python3.8/site-packages/sklearn/neural_network/_multilayer_perceptron.py:614: ConvergenceWarning: Stochastic Optimizer: Maximum iterations (200) reached and the optimization hasn't converged yet.\n",
      "  warnings.warn(\n"
     ]
    }
   ],
   "source": [
    "for learning_rate_init in [0.01, 0.001, 0.0001]:\n",
    "    for hidden_layer_sizes in [(100), (200, 100), (10, 10)]:\n",
    "        for activation in [\"relu\", \"tanh\", \"sigmoid\"]:\n",
    "            \n",
    "            model = MLPClassifier(\n",
    "                hidden_layer_sizes=hidden_layer_sizes, learning_rate_init=learning_rate_init\n",
    "            )\n",
    "            model.fit(x_train, y_train)\n",
    "            print(\"hidden_layer_sizes {}, activation {}, learning_rate_init {}\".format(\n",
    "                hidden_layer_sizes, activation,learning_rate_init )\n",
    "            )\n",
    "            print(model.score(x_test, y_test))"
   ]
  },
  {
   "cell_type": "code",
   "execution_count": null,
   "id": "903e9548",
   "metadata": {},
   "outputs": [],
   "source": []
  }
 ],
 "metadata": {
  "kernelspec": {
   "display_name": "Python 3",
   "language": "python",
   "name": "python3"
  },
  "language_info": {
   "codemirror_mode": {
    "name": "ipython",
    "version": 3
   },
   "file_extension": ".py",
   "mimetype": "text/x-python",
   "name": "python",
   "nbconvert_exporter": "python",
   "pygments_lexer": "ipython3",
   "version": "3.8.10"
  }
 },
 "nbformat": 4,
 "nbformat_minor": 5
}
