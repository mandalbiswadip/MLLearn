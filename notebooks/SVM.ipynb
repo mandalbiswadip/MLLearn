{
 "cells": [
  {
   "cell_type": "code",
   "execution_count": 1,
   "id": "0c8a250d",
   "metadata": {},
   "outputs": [],
   "source": [
    "from sklearn.datasets import fetch_openml\n",
    "\n",
    "X, y = fetch_openml(\"mnist_784\", version=1, return_X_y=True)\n",
    "\n",
    "X = X / 255.\n",
    "\n",
    "x_train, y_train = X[:60000], y[:60000]\n",
    "x_test, y_test = X[60000:], y[60000:]\n",
    "\n",
    "from sklearn.svm import SVC\n",
    "\n",
    "for c in [0.1, 0.01, 0.001]:\n",
    "    for kernel in [\"linear\", \"poly\", \"rbf\", \"sigmoid\", ]:\n",
    "        for gamma in [\"scale\", \"auto\"]:\n",
    "            model = SVC(kernel=kernel, C=c, gamma=gamma)\n",
    "            model.fit(x_train, y_train)\n",
    "            print(\"c {} gamma {} kernal {}\".format(c, gamma, kernel))\n",
    "            print(model.score(x_test, y_test))"
   ]
  },
  {
   "cell_type": "code",
   "execution_count": null,
   "id": "928032e9",
   "metadata": {},
   "outputs": [
    {
     "name": "stdout",
     "output_type": "stream",
     "text": [
      "c 0.01 gamma scale kernal linear\n",
      "0.9443\n",
      "c 0.01 gamma auto kernal linear\n",
      "0.9443\n",
      "c 0.01 gamma scale kernal poly\n",
      "0.8957\n",
      "c 0.01 gamma auto kernal poly\n",
      "0.1135\n",
      "c 0.01 gamma scale kernal rbf\n",
      "0.9257\n",
      "c 0.01 gamma auto kernal rbf\n",
      "0.835\n",
      "c 0.01 gamma scale kernal sigmoid\n",
      "0.8812\n",
      "c 0.01 gamma auto kernal sigmoid\n",
      "0.7155\n",
      "c 0.001 gamma scale kernal linear\n",
      "0.9302\n",
      "c 0.001 gamma auto kernal linear\n",
      "0.9302\n",
      "c 0.001 gamma scale kernal poly\n",
      "0.633\n",
      "c 0.001 gamma auto kernal poly\n",
      "0.1135\n",
      "c 0.001 gamma scale kernal rbf\n",
      "0.6487\n",
      "c 0.001 gamma auto kernal rbf\n",
      "0.1135\n",
      "c 0.001 gamma scale kernal sigmoid\n",
      "0.64\n"
     ]
    }
   ],
   "source": [
    "for c in [ 0.01, 0.001]:\n",
    "    for kernel in [\"linear\", \"poly\", \"rbf\", \"sigmoid\", ]:\n",
    "        for gamma in [\"scale\", \"auto\"]:\n",
    "            model = SVC(kernel=kernel, C=c, gamma=gamma)\n",
    "            model.fit(x_train, y_train)\n",
    "            print(\"c {} gamma {} kernal {}\".format(c, gamma, kernel))\n",
    "            print(model.score(x_test, y_test))"
   ]
  },
  {
   "cell_type": "code",
   "execution_count": 6,
   "id": "19326aac",
   "metadata": {},
   "outputs": [
    {
     "name": "stdout",
     "output_type": "stream",
     "text": [
      "c 0.001 gamma auto kernal sigmoid\n",
      "0.1135\n"
     ]
    }
   ],
   "source": [
    "for c in [0.001]:\n",
    "    for kernel in [\"sigmoid\", ]:\n",
    "        for gamma in [\"auto\"]:\n",
    "            model = SVC(kernel=kernel, C=c, gamma=gamma)\n",
    "            model.fit(x_train, y_train)\n",
    "            print(\"c {} gamma {} kernal {}\".format(c, gamma, kernel))\n",
    "            print(model.score(x_test, y_test))"
   ]
  },
  {
   "cell_type": "code",
   "execution_count": 8,
   "id": "abb19c28",
   "metadata": {},
   "outputs": [
    {
     "data": {
      "text/plain": [
       "0.11236666666666667"
      ]
     },
     "execution_count": 8,
     "metadata": {},
     "output_type": "execute_result"
    }
   ],
   "source": [
    "model.score(x_train, y_train)"
   ]
  },
  {
   "cell_type": "code",
   "execution_count": null,
   "id": "b60b9555",
   "metadata": {},
   "outputs": [],
   "source": []
  }
 ],
 "metadata": {
  "kernelspec": {
   "display_name": "Python 3",
   "language": "python",
   "name": "python3"
  },
  "language_info": {
   "codemirror_mode": {
    "name": "ipython",
    "version": 3
   },
   "file_extension": ".py",
   "mimetype": "text/x-python",
   "name": "python",
   "nbconvert_exporter": "python",
   "pygments_lexer": "ipython3",
   "version": "3.8.10"
  }
 },
 "nbformat": 4,
 "nbformat_minor": 5
}
