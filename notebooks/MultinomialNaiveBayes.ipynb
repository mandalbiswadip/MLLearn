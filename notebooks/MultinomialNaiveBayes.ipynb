{
 "cells": [
  {
   "cell_type": "code",
   "execution_count": 1,
   "id": "b60e636c",
   "metadata": {},
   "outputs": [],
   "source": [
    "%load_ext autoreload\n",
    "%autoreload 2"
   ]
  },
  {
   "cell_type": "code",
   "execution_count": 2,
   "id": "b184ba88",
   "metadata": {},
   "outputs": [],
   "source": [
    "import sys\n",
    "sys.path.append(\"../mllearn/\")"
   ]
  },
  {
   "cell_type": "code",
   "execution_count": 3,
   "id": "49afd317",
   "metadata": {},
   "outputs": [],
   "source": [
    "from sklearn.linear_model import SGDClassifier\n",
    "from sklearn.model_selection import GridSearchCV\n",
    "from sklearn.naive_bayes import MultinomialNB, BernoulliNB\n",
    "from dataset import TextReader, TextData\n",
    "from model import MultinomialNaiveBayesModel, LogisticRegression, DiscreteNaiveBayesModel"
   ]
  },
  {
   "cell_type": "code",
   "execution_count": 4,
   "id": "81c7b5e3",
   "metadata": {},
   "outputs": [],
   "source": [
    "import pathlib\n",
    "import glob\n",
    "import os\n",
    "from collections import Counter"
   ]
  },
  {
   "cell_type": "code",
   "execution_count": 5,
   "id": "b9c619a3",
   "metadata": {},
   "outputs": [],
   "source": [
    "folder = \"/Users/biswadipmandal/Documents/MSCS/Fall_21/CS_6375_ML/homeworks/hw1/train\""
   ]
  },
  {
   "cell_type": "code",
   "execution_count": 6,
   "id": "d70e32fb",
   "metadata": {},
   "outputs": [],
   "source": [
    "reader = TextReader.read_from_folder(\n",
    "    folder, unique_labels = [\"ham\", \"spam\"]\n",
    ")"
   ]
  },
  {
   "cell_type": "code",
   "execution_count": 7,
   "id": "e0d36746",
   "metadata": {},
   "outputs": [],
   "source": [
    "docs, labels = reader.get_training_data()"
   ]
  },
  {
   "cell_type": "code",
   "execution_count": null,
   "id": "7fe8d8b0",
   "metadata": {},
   "outputs": [],
   "source": []
  },
  {
   "cell_type": "code",
   "execution_count": 8,
   "id": "2d5b2fa3",
   "metadata": {},
   "outputs": [],
   "source": [
    "# docs = \"\"\"Chinese Bejjing Chinese\n",
    "# Chinese Chinese Sanghai\n",
    "# Chinese Macao\n",
    "# Tokyo Japan Chinese \"\"\".splitlines()"
   ]
  },
  {
   "cell_type": "code",
   "execution_count": 9,
   "id": "555b37ec",
   "metadata": {},
   "outputs": [],
   "source": [
    "text_data = TextData(docs)"
   ]
  },
  {
   "cell_type": "code",
   "execution_count": 10,
   "id": "adbe38d2",
   "metadata": {},
   "outputs": [],
   "source": [
    "features = text_data.transform_bag_of_words(docs)"
   ]
  },
  {
   "cell_type": "code",
   "execution_count": 11,
   "id": "e763c8e1",
   "metadata": {},
   "outputs": [],
   "source": [
    "# label china?\n",
    "# labels = [\"yes\",\"yes\", \"yes\", \"no\"]"
   ]
  },
  {
   "cell_type": "code",
   "execution_count": 12,
   "id": "4c60ba18",
   "metadata": {},
   "outputs": [],
   "source": [
    "# model = MultinomialNB()\n",
    "# model = BernoulliNB()\n",
    "# model = MultinomialNaiveBayesModel()\n",
    "model = DiscreteNaiveBayesModel()\n",
    "\n",
    "\n",
    "\n",
    "\n",
    "# model = SGDClassifier()\n",
    "\n",
    "\n",
    "# model = LogisticRegression(max_iterations=500, learning_rate=0.001)"
   ]
  },
  {
   "cell_type": "code",
   "execution_count": 13,
   "id": "7fd7b508",
   "metadata": {
    "scrolled": true
   },
   "outputs": [],
   "source": [
    "# model.train(features, labels)"
   ]
  },
  {
   "cell_type": "code",
   "execution_count": 14,
   "id": "15ac1c82",
   "metadata": {},
   "outputs": [],
   "source": [
    "# predictions = list(model.predict(features))\n",
    "# predictions = list(zip(*model.predict(features)))[0]"
   ]
  },
  {
   "cell_type": "code",
   "execution_count": 16,
   "id": "3bd18345",
   "metadata": {},
   "outputs": [],
   "source": [
    "# predictions[:3]"
   ]
  },
  {
   "cell_type": "code",
   "execution_count": 16,
   "id": "f5f762de",
   "metadata": {},
   "outputs": [],
   "source": [
    "count = 0 \n",
    "for a,b in zip(predictions, labels):\n",
    "    if a == b:\n",
    "        count +=1 "
   ]
  },
  {
   "cell_type": "code",
   "execution_count": 17,
   "id": "d45a537d",
   "metadata": {},
   "outputs": [
    {
     "data": {
      "text/plain": [
       "0.9892008639308856"
      ]
     },
     "execution_count": 17,
     "metadata": {},
     "output_type": "execute_result"
    }
   ],
   "source": [
    "count/len(labels)"
   ]
  },
  {
   "cell_type": "code",
   "execution_count": null,
   "id": "75b3aef6",
   "metadata": {},
   "outputs": [],
   "source": []
  },
  {
   "cell_type": "markdown",
   "id": "0b68d51b",
   "metadata": {},
   "source": [
    "### Test"
   ]
  },
  {
   "cell_type": "code",
   "execution_count": 17,
   "id": "a477ee90",
   "metadata": {},
   "outputs": [],
   "source": [
    "folder = \"/Users/biswadipmandal/Documents/MSCS/Fall_21/CS_6375_ML/homeworks/hw1/test\""
   ]
  },
  {
   "cell_type": "code",
   "execution_count": 18,
   "id": "0da701ac",
   "metadata": {},
   "outputs": [],
   "source": [
    "test_reader = TextReader.read_from_folder(\n",
    "    folder, unique_labels = [\"ham\", \"spam\"]\n",
    ")"
   ]
  },
  {
   "cell_type": "code",
   "execution_count": 19,
   "id": "ff71cf3c",
   "metadata": {},
   "outputs": [],
   "source": [
    "test_docs, test_labels = test_reader.get_training_data()"
   ]
  },
  {
   "cell_type": "code",
   "execution_count": 20,
   "id": "65d563fe",
   "metadata": {},
   "outputs": [],
   "source": [
    "# test_text_data = TextData(test_docs)"
   ]
  },
  {
   "cell_type": "code",
   "execution_count": 21,
   "id": "fbc454d6",
   "metadata": {},
   "outputs": [],
   "source": [
    "test_features = text_data.transform_bag_of_words(test_docs)"
   ]
  },
  {
   "cell_type": "code",
   "execution_count": 22,
   "id": "0df9b05d",
   "metadata": {},
   "outputs": [],
   "source": [
    "# test_features"
   ]
  },
  {
   "cell_type": "code",
   "execution_count": 24,
   "id": "4f7075b9",
   "metadata": {},
   "outputs": [],
   "source": [
    "# predictions = list(model.predict(test_features))"
   ]
  },
  {
   "cell_type": "code",
   "execution_count": 25,
   "id": "3f2612ef",
   "metadata": {},
   "outputs": [],
   "source": [
    "predictions = list(zip(*model.predict(test_features)))[0]"
   ]
  },
  {
   "cell_type": "code",
   "execution_count": 26,
   "id": "6ed42279",
   "metadata": {},
   "outputs": [],
   "source": [
    "# predictions = list(model.predict(test_features))"
   ]
  },
  {
   "cell_type": "code",
   "execution_count": 27,
   "id": "1b81c81f",
   "metadata": {},
   "outputs": [
    {
     "data": {
      "text/plain": [
       "('ham', 'ham', 'ham')"
      ]
     },
     "execution_count": 27,
     "metadata": {},
     "output_type": "execute_result"
    }
   ],
   "source": [
    "predictions[:3]"
   ]
  },
  {
   "cell_type": "code",
   "execution_count": 28,
   "id": "f2d52221",
   "metadata": {},
   "outputs": [],
   "source": [
    "count = 0 \n",
    "for a,b in zip(predictions, test_labels):\n",
    "    if a == b:\n",
    "        count +=1 "
   ]
  },
  {
   "cell_type": "code",
   "execution_count": 29,
   "id": "985d2096",
   "metadata": {},
   "outputs": [
    {
     "data": {
      "text/plain": [
       "0.9225941422594143"
      ]
     },
     "execution_count": 29,
     "metadata": {},
     "output_type": "execute_result"
    }
   ],
   "source": [
    "count/len(test_labels)"
   ]
  },
  {
   "cell_type": "code",
   "execution_count": null,
   "id": "3dd44c22",
   "metadata": {},
   "outputs": [],
   "source": []
  },
  {
   "cell_type": "markdown",
   "id": "35ec9859",
   "metadata": {},
   "source": [
    "### Naive bayes"
   ]
  },
  {
   "cell_type": "code",
   "execution_count": 13,
   "id": "f0a7e649",
   "metadata": {},
   "outputs": [],
   "source": [
    "model = MultinomialNaiveBayesModel()"
   ]
  },
  {
   "cell_type": "code",
   "execution_count": 14,
   "id": "a9cbd134",
   "metadata": {},
   "outputs": [],
   "source": [
    "model.train(features=features, labels=labels)"
   ]
  },
  {
   "cell_type": "code",
   "execution_count": 15,
   "id": "5fe0735e",
   "metadata": {},
   "outputs": [
    {
     "data": {
      "text/plain": [
       "defaultdict(dict,\n",
       "            {'yes': {0: -0.8472978603872037,\n",
       "              1: -1.9459101490553135,\n",
       "              2: -1.9459101490553135,\n",
       "              3: -1.9459101490553135,\n",
       "              4: -2.639057329615259,\n",
       "              5: -2.639057329615259},\n",
       "             'no': {0: -1.5040773967762742,\n",
       "              1: -2.1972245773362196,\n",
       "              2: -2.1972245773362196,\n",
       "              3: -2.1972245773362196,\n",
       "              4: -1.5040773967762742,\n",
       "              5: -1.5040773967762742}})"
      ]
     },
     "execution_count": 15,
     "metadata": {},
     "output_type": "execute_result"
    }
   ],
   "source": [
    "model.cond_prob_estimates"
   ]
  },
  {
   "cell_type": "code",
   "execution_count": 16,
   "id": "b3e8809a",
   "metadata": {},
   "outputs": [],
   "source": [
    "folder = \"/Users/biswadipmandal/Documents/MSCS/Fall_21/CS_6375_ML/homeworks/hw1/test\""
   ]
  },
  {
   "cell_type": "code",
   "execution_count": 31,
   "id": "b71a89ef",
   "metadata": {},
   "outputs": [],
   "source": [
    "test_reader = TextReader.read_from_folder(\n",
    "    folder, unique_labels = [\"ham\", \"spam\"]\n",
    ")"
   ]
  },
  {
   "cell_type": "code",
   "execution_count": 172,
   "id": "fd4e6e1b",
   "metadata": {},
   "outputs": [],
   "source": [
    "test_docs, test_labels = test_reader.get_training_data()"
   ]
  },
  {
   "cell_type": "code",
   "execution_count": 182,
   "id": "c6e178a0",
   "metadata": {},
   "outputs": [],
   "source": [
    "predictions = list(zip(*model.predict(test_docs)))[0]"
   ]
  },
  {
   "cell_type": "code",
   "execution_count": 185,
   "id": "5868222c",
   "metadata": {},
   "outputs": [],
   "source": [
    "count = 0 \n",
    "for a,b in zip(predictions, test_labels):\n",
    "    if a == b:\n",
    "        count +=1 "
   ]
  },
  {
   "cell_type": "code",
   "execution_count": null,
   "id": "ee10a1b1",
   "metadata": {},
   "outputs": [],
   "source": []
  },
  {
   "cell_type": "markdown",
   "id": "55f2e7fc",
   "metadata": {},
   "source": [
    "### SGD and GridSearchCV"
   ]
  },
  {
   "cell_type": "code",
   "execution_count": 23,
   "id": "3ed5578e",
   "metadata": {},
   "outputs": [],
   "source": [
    "from sklearn.linear_model import SGDClassifier\n",
    "from sklearn.model_selection import GridSearchCV"
   ]
  },
  {
   "cell_type": "code",
   "execution_count": null,
   "id": "0a01087e",
   "metadata": {},
   "outputs": [],
   "source": []
  },
  {
   "cell_type": "code",
   "execution_count": 24,
   "id": "8a221240",
   "metadata": {},
   "outputs": [],
   "source": [
    "parameters = {'loss':('hinge', 'log', 'modified_huber','squared_hinge', 'perceptron'), \n",
    "              'penalty':('l2', 'l1', 'elasticnet'),\n",
    "             \"alpha\": (1e-2, 1e-3, 1e-4, 1e-5),          # regularize term\n",
    "             \"learning_rate\": (\"constant\", \"optimal\", \"invscaling\", \"adaptive\"), # lr decay schedule\n",
    "              \"eta0\": (1e-3, 1e-4)\n",
    "             }\n"
   ]
  },
  {
   "cell_type": "code",
   "execution_count": 26,
   "id": "2f45ab26",
   "metadata": {},
   "outputs": [
    {
     "name": "stderr",
     "output_type": "stream",
     "text": [
      "/Users/biswadipmandal/miniforge3/envs/venv/lib/python3.9/site-packages/sklearn/linear_model/_stochastic_gradient.py:574: ConvergenceWarning: Maximum number of iteration reached before convergence. Consider increasing max_iter to improve the fit.\n",
      "  warnings.warn(\"Maximum number of iteration reached before \"\n",
      "/Users/biswadipmandal/miniforge3/envs/venv/lib/python3.9/site-packages/sklearn/linear_model/_stochastic_gradient.py:574: ConvergenceWarning: Maximum number of iteration reached before convergence. Consider increasing max_iter to improve the fit.\n",
      "  warnings.warn(\"Maximum number of iteration reached before \"\n",
      "/Users/biswadipmandal/miniforge3/envs/venv/lib/python3.9/site-packages/sklearn/linear_model/_stochastic_gradient.py:574: ConvergenceWarning: Maximum number of iteration reached before convergence. Consider increasing max_iter to improve the fit.\n",
      "  warnings.warn(\"Maximum number of iteration reached before \"\n",
      "/Users/biswadipmandal/miniforge3/envs/venv/lib/python3.9/site-packages/sklearn/linear_model/_stochastic_gradient.py:574: ConvergenceWarning: Maximum number of iteration reached before convergence. Consider increasing max_iter to improve the fit.\n",
      "  warnings.warn(\"Maximum number of iteration reached before \"\n",
      "/Users/biswadipmandal/miniforge3/envs/venv/lib/python3.9/site-packages/sklearn/linear_model/_stochastic_gradient.py:574: ConvergenceWarning: Maximum number of iteration reached before convergence. Consider increasing max_iter to improve the fit.\n",
      "  warnings.warn(\"Maximum number of iteration reached before \"\n",
      "/Users/biswadipmandal/miniforge3/envs/venv/lib/python3.9/site-packages/sklearn/linear_model/_stochastic_gradient.py:574: ConvergenceWarning: Maximum number of iteration reached before convergence. Consider increasing max_iter to improve the fit.\n",
      "  warnings.warn(\"Maximum number of iteration reached before \"\n",
      "/Users/biswadipmandal/miniforge3/envs/venv/lib/python3.9/site-packages/sklearn/linear_model/_stochastic_gradient.py:574: ConvergenceWarning: Maximum number of iteration reached before convergence. Consider increasing max_iter to improve the fit.\n",
      "  warnings.warn(\"Maximum number of iteration reached before \"\n",
      "/Users/biswadipmandal/miniforge3/envs/venv/lib/python3.9/site-packages/sklearn/linear_model/_stochastic_gradient.py:574: ConvergenceWarning: Maximum number of iteration reached before convergence. Consider increasing max_iter to improve the fit.\n",
      "  warnings.warn(\"Maximum number of iteration reached before \"\n",
      "/Users/biswadipmandal/miniforge3/envs/venv/lib/python3.9/site-packages/sklearn/linear_model/_stochastic_gradient.py:574: ConvergenceWarning: Maximum number of iteration reached before convergence. Consider increasing max_iter to improve the fit.\n",
      "  warnings.warn(\"Maximum number of iteration reached before \"\n",
      "/Users/biswadipmandal/miniforge3/envs/venv/lib/python3.9/site-packages/sklearn/linear_model/_stochastic_gradient.py:574: ConvergenceWarning: Maximum number of iteration reached before convergence. Consider increasing max_iter to improve the fit.\n",
      "  warnings.warn(\"Maximum number of iteration reached before \"\n",
      "/Users/biswadipmandal/miniforge3/envs/venv/lib/python3.9/site-packages/sklearn/linear_model/_stochastic_gradient.py:574: ConvergenceWarning: Maximum number of iteration reached before convergence. Consider increasing max_iter to improve the fit.\n",
      "  warnings.warn(\"Maximum number of iteration reached before \"\n",
      "/Users/biswadipmandal/miniforge3/envs/venv/lib/python3.9/site-packages/sklearn/linear_model/_stochastic_gradient.py:574: ConvergenceWarning: Maximum number of iteration reached before convergence. Consider increasing max_iter to improve the fit.\n",
      "  warnings.warn(\"Maximum number of iteration reached before \"\n",
      "/Users/biswadipmandal/miniforge3/envs/venv/lib/python3.9/site-packages/sklearn/linear_model/_stochastic_gradient.py:574: ConvergenceWarning: Maximum number of iteration reached before convergence. Consider increasing max_iter to improve the fit.\n",
      "  warnings.warn(\"Maximum number of iteration reached before \"\n",
      "/Users/biswadipmandal/miniforge3/envs/venv/lib/python3.9/site-packages/sklearn/linear_model/_stochastic_gradient.py:574: ConvergenceWarning: Maximum number of iteration reached before convergence. Consider increasing max_iter to improve the fit.\n",
      "  warnings.warn(\"Maximum number of iteration reached before \"\n",
      "/Users/biswadipmandal/miniforge3/envs/venv/lib/python3.9/site-packages/sklearn/linear_model/_stochastic_gradient.py:574: ConvergenceWarning: Maximum number of iteration reached before convergence. Consider increasing max_iter to improve the fit.\n",
      "  warnings.warn(\"Maximum number of iteration reached before \"\n",
      "/Users/biswadipmandal/miniforge3/envs/venv/lib/python3.9/site-packages/sklearn/linear_model/_stochastic_gradient.py:574: ConvergenceWarning: Maximum number of iteration reached before convergence. Consider increasing max_iter to improve the fit.\n",
      "  warnings.warn(\"Maximum number of iteration reached before \"\n",
      "/Users/biswadipmandal/miniforge3/envs/venv/lib/python3.9/site-packages/sklearn/linear_model/_stochastic_gradient.py:574: ConvergenceWarning: Maximum number of iteration reached before convergence. Consider increasing max_iter to improve the fit.\n",
      "  warnings.warn(\"Maximum number of iteration reached before \"\n",
      "/Users/biswadipmandal/miniforge3/envs/venv/lib/python3.9/site-packages/sklearn/linear_model/_stochastic_gradient.py:574: ConvergenceWarning: Maximum number of iteration reached before convergence. Consider increasing max_iter to improve the fit.\n",
      "  warnings.warn(\"Maximum number of iteration reached before \"\n",
      "/Users/biswadipmandal/miniforge3/envs/venv/lib/python3.9/site-packages/sklearn/linear_model/_stochastic_gradient.py:574: ConvergenceWarning: Maximum number of iteration reached before convergence. Consider increasing max_iter to improve the fit.\n",
      "  warnings.warn(\"Maximum number of iteration reached before \"\n",
      "/Users/biswadipmandal/miniforge3/envs/venv/lib/python3.9/site-packages/sklearn/linear_model/_stochastic_gradient.py:574: ConvergenceWarning: Maximum number of iteration reached before convergence. Consider increasing max_iter to improve the fit.\n",
      "  warnings.warn(\"Maximum number of iteration reached before \"\n",
      "/Users/biswadipmandal/miniforge3/envs/venv/lib/python3.9/site-packages/sklearn/linear_model/_stochastic_gradient.py:574: ConvergenceWarning: Maximum number of iteration reached before convergence. Consider increasing max_iter to improve the fit.\n",
      "  warnings.warn(\"Maximum number of iteration reached before \"\n",
      "/Users/biswadipmandal/miniforge3/envs/venv/lib/python3.9/site-packages/sklearn/linear_model/_stochastic_gradient.py:574: ConvergenceWarning: Maximum number of iteration reached before convergence. Consider increasing max_iter to improve the fit.\n",
      "  warnings.warn(\"Maximum number of iteration reached before \"\n",
      "/Users/biswadipmandal/miniforge3/envs/venv/lib/python3.9/site-packages/sklearn/linear_model/_stochastic_gradient.py:574: ConvergenceWarning: Maximum number of iteration reached before convergence. Consider increasing max_iter to improve the fit.\n",
      "  warnings.warn(\"Maximum number of iteration reached before \"\n",
      "/Users/biswadipmandal/miniforge3/envs/venv/lib/python3.9/site-packages/sklearn/linear_model/_stochastic_gradient.py:574: ConvergenceWarning: Maximum number of iteration reached before convergence. Consider increasing max_iter to improve the fit.\n",
      "  warnings.warn(\"Maximum number of iteration reached before \"\n",
      "/Users/biswadipmandal/miniforge3/envs/venv/lib/python3.9/site-packages/sklearn/linear_model/_stochastic_gradient.py:574: ConvergenceWarning: Maximum number of iteration reached before convergence. Consider increasing max_iter to improve the fit.\n",
      "  warnings.warn(\"Maximum number of iteration reached before \"\n",
      "/Users/biswadipmandal/miniforge3/envs/venv/lib/python3.9/site-packages/sklearn/linear_model/_stochastic_gradient.py:574: ConvergenceWarning: Maximum number of iteration reached before convergence. Consider increasing max_iter to improve the fit.\n",
      "  warnings.warn(\"Maximum number of iteration reached before \"\n",
      "/Users/biswadipmandal/miniforge3/envs/venv/lib/python3.9/site-packages/sklearn/linear_model/_stochastic_gradient.py:574: ConvergenceWarning: Maximum number of iteration reached before convergence. Consider increasing max_iter to improve the fit.\n",
      "  warnings.warn(\"Maximum number of iteration reached before \"\n"
     ]
    },
    {
     "name": "stderr",
     "output_type": "stream",
     "text": [
      "/Users/biswadipmandal/miniforge3/envs/venv/lib/python3.9/site-packages/sklearn/linear_model/_stochastic_gradient.py:574: ConvergenceWarning: Maximum number of iteration reached before convergence. Consider increasing max_iter to improve the fit.\n",
      "  warnings.warn(\"Maximum number of iteration reached before \"\n",
      "/Users/biswadipmandal/miniforge3/envs/venv/lib/python3.9/site-packages/sklearn/linear_model/_stochastic_gradient.py:574: ConvergenceWarning: Maximum number of iteration reached before convergence. Consider increasing max_iter to improve the fit.\n",
      "  warnings.warn(\"Maximum number of iteration reached before \"\n",
      "/Users/biswadipmandal/miniforge3/envs/venv/lib/python3.9/site-packages/sklearn/linear_model/_stochastic_gradient.py:574: ConvergenceWarning: Maximum number of iteration reached before convergence. Consider increasing max_iter to improve the fit.\n",
      "  warnings.warn(\"Maximum number of iteration reached before \"\n",
      "/Users/biswadipmandal/miniforge3/envs/venv/lib/python3.9/site-packages/sklearn/linear_model/_stochastic_gradient.py:574: ConvergenceWarning: Maximum number of iteration reached before convergence. Consider increasing max_iter to improve the fit.\n",
      "  warnings.warn(\"Maximum number of iteration reached before \"\n"
     ]
    }
   ],
   "source": [
    "md = SGDClassifier()\n",
    "clf = GridSearchCV(md, parameters)\n",
    "clf.fit(features, labels)"
   ]
  },
  {
   "cell_type": "code",
   "execution_count": 31,
   "id": "84501d20",
   "metadata": {},
   "outputs": [
    {
     "data": {
      "text/plain": [
       "SGDClassifier(alpha=0.01, eta0=0.001, learning_rate='adaptive',\n",
       "              penalty='elasticnet')"
      ]
     },
     "execution_count": 31,
     "metadata": {},
     "output_type": "execute_result"
    }
   ],
   "source": [
    "clf.best_estimator_"
   ]
  },
  {
   "cell_type": "code",
   "execution_count": null,
   "id": "aa360f02",
   "metadata": {},
   "outputs": [],
   "source": []
  }
 ],
 "metadata": {
  "kernelspec": {
   "display_name": "Python 3 (ipykernel)",
   "language": "python",
   "name": "python3"
  },
  "language_info": {
   "codemirror_mode": {
    "name": "ipython",
    "version": 3
   },
   "file_extension": ".py",
   "mimetype": "text/x-python",
   "name": "python",
   "nbconvert_exporter": "python",
   "pygments_lexer": "ipython3",
   "version": "3.9.7"
  }
 },
 "nbformat": 4,
 "nbformat_minor": 5
}
