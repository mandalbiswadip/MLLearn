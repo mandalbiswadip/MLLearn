{
 "cells": [
  {
   "cell_type": "code",
   "execution_count": 1,
   "id": "0c8a250d",
   "metadata": {},
   "outputs": [],
   "source": [
    "from sklearn.datasets import fetch_openml\n",
    "\n",
    "X, y = fetch_openml(\"mnist_784\", version=1, return_X_y=True)\n",
    "\n",
    "X = X / 255.\n",
    "\n",
    "x_train, y_train = X[:60000], y[:60000]\n",
    "x_test, y_test = X[60000:], y[60000:]\n",
    "\n",
    "from sklearn.neighbors import KNeighborsClassifier\n",
    "\n",
    "for n_neighbors in [5,10,20, 50]:\n",
    "    for algorithm in ['auto', 'ball_tree', 'kd_tree']:\n",
    "        model = KNeighborsClassifier(\n",
    "            n_neighbors=n_neighbors, algorithm=algorithm\n",
    "        )\n",
    "\n",
    "        model.fit(x_train, y_train)\n",
    "        print(\"n_neighbors {}, algorithm {}\".format(\n",
    "            n_neighbors, algorithm)\n",
    "        )\n",
    "        print(model.score(x_test, y_test))\n",
    "        "
   ]
  },
  {
   "cell_type": "code",
   "execution_count": null,
   "id": "84eefa00",
   "metadata": {},
   "outputs": [],
   "source": []
  }
 ],
 "metadata": {
  "kernelspec": {
   "display_name": "Python 3",
   "language": "python",
   "name": "python3"
  },
  "language_info": {
   "codemirror_mode": {
    "name": "ipython",
    "version": 3
   },
   "file_extension": ".py",
   "mimetype": "text/x-python",
   "name": "python",
   "nbconvert_exporter": "python",
   "pygments_lexer": "ipython3",
   "version": "3.8.10"
  }
 },
 "nbformat": 4,
 "nbformat_minor": 5
}
